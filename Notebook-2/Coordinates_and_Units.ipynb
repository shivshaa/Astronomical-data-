{
  "nbformat": 4,
  "nbformat_minor": 0,
  "metadata": {
    "colab": {
      "provenance": []
    },
    "kernelspec": {
      "name": "python3",
      "display_name": "Python 3"
    },
    "language_info": {
      "name": "python"
    },
    "widgets": {
      "application/vnd.jupyter.widget-state+json": {
        "de5ac2e29a744c7396d30313b36836aa": {
          "model_module": "@jupyter-widgets/controls",
          "model_name": "VBoxModel",
          "model_module_version": "1.5.0",
          "state": {
            "_dom_classes": [],
            "_model_module": "@jupyter-widgets/controls",
            "_model_module_version": "1.5.0",
            "_model_name": "VBoxModel",
            "_view_count": null,
            "_view_module": "@jupyter-widgets/controls",
            "_view_module_version": "1.5.0",
            "_view_name": "VBoxView",
            "box_style": "",
            "children": [
              "IPY_MODEL_b05372aaaa474baa9d41e4d891ab589d"
            ],
            "layout": "IPY_MODEL_058cc8e7639e4d018477c42e086433ab"
          }
        },
        "b05372aaaa474baa9d41e4d891ab589d": {
          "model_module": "anywidget",
          "model_name": "AnyModel",
          "model_module_version": "~0.9.*",
          "state": {
            "_anywidget_id": "ipyaladin.widget.Aladin",
            "_base_layer_last_view": "P/DSS2/color",
            "_css": ".cell-output-ipywidget-background{background:transparent}.jp-OutputArea-output,.aladin-widget{background-color:transparent}.aladin-widget .aladin-measurement-div{max-height:100px}\n",
            "_dom_classes": [],
            "_esm": "function v(n){n.charAt(0)===\"_\"&&(n=n.slice(1));let e=n.split(\"_\");for(let a=1;a<e.length;a++)e[a]=e[a].charAt(0).toUpperCase()+e[a].slice(1);return e.join(\"\")}function h(n){let e={};for(let a in n)e[v(a)]=n[a];return e}var m=class{locked=!1;unlock(){this.locked=!1}lock(){this.locked=!0}},g=-1;function f(n){g=n}function _(n,e){n==-1?e.style.height=\"100%\":e.style.height=`${n}px`}import y from\"https://esm.sh/aladin-lite@3.5.1-beta\";var r=y;var b=0,p=class{constructor(e,a){this.aladin=e,this.model=a}handleAddMarker(e){let a=h(e.options||{});a.name||(a.name=\"markers\");let s=r.catalog(a);this.aladin.addCatalog(s);let i=e.markers,t=[];for(let o of i)t.push(r.marker(o.lon,o.lat,{useMarkerDefaultIcon:a.useMarkerDefaultIcon|!1,popupTitle:o.title,popupDesc:o.description}));s.addSources(t)}handleChangeFoV(e){this.aladin.setFoV(e.fov)}handleGotoRaDec(e){this.aladin.gotoRaDec(e.ra,e.dec)}async handleSaveViewAsImage(e){let a=e.path,s=e.format,i=e.with_logo,t=await this.aladin.getViewData(\"arraybuffer\",`image/${s}`,i);this.model.send({event_type:\"save_view_as_image\",path:a},null,[t])}handleAddFits(e,a){let s=h(e.options||{});s.name||(s.name=`image_${String(++b).padStart(3,\"0\")}`);let i=a[0],t=new Blob([i],{type:\"application/octet-stream\"}),o=URL.createObjectURL(t),d=this.aladin.createImageFITS(o,s,(c,l)=>{this.aladin.gotoRaDec(c,l),console.info(`FITS located at ra: ${c}, dec: ${l}`),URL.revokeObjectURL(o)});this.aladin.setOverlayImageLayer(d,s.name)}handleAddCatalogFromURL(e){let a=h(e.options||{});this.aladin.addCatalog(r.catalogFromURL(e.votable_URL,a))}handleAddMOCFromURL(e){let a=h(e.options||{});this.aladin.addMOC(r.MOCFromURL(e.moc_URL,a))}handleAddMOCFromDict(e){let a=h(e.options||{});this.aladin.addMOC(r.MOCFromJSON(e.moc_dict,a))}handleAddOverlay(e){let a=e.regions_infos,s=h(e.graphic_options||{});s.color||(s.color=\"red\");let i=r.graphicOverlay(s);this.aladin.addOverlay(i);for(let t of a){let o=t.infos;switch(t.region_type){case\"stcs\":i.addFootprints(r.footprintsFromSTCS(o.stcs,t.options));break;case\"circle\":i.add(r.circle(o.ra,o.dec,o.radius,t.options));break;case\"ellipse\":i.add(r.ellipse(o.ra,o.dec,o.a,o.b,o.theta,t.options));break;case\"line\":t.options.lineWidth=t.options.lineWidth||3,i.add(r.vector(o.ra1,o.dec1,o.ra2,o.dec2,t.options));break;case\"polygon\":i.add(r.polygon(o.vertices,t.options));break}}}handleChangeColormap(e){this.aladin.getBaseImageLayer().setColormap(e.colormap)}handleGetJPGThumbnail(){this.aladin.exportAsPNG()}handleTriggerSelection(e){let a=e.selection_type;a===\"rectangle\"?a=\"rect\":a===\"polygon\"&&(a=\"poly\"),this.aladin.select(a)}handleAddTable(e,a){let s=h(e.options||{}),i=a[0].buffer,t=new TextDecoder(\"utf-8\"),o=new Blob([t.decode(i)]),d=URL.createObjectURL(o);r.catalogFromURL(d,Object.assign(s,{onClick:\"showTable\"}),c=>{this.aladin.addCatalog(c)},!1),URL.revokeObjectURL(d)}};var u=class{constructor(e,a,s){this.aladin=e,this.aladinDiv=a,this.model=s,this.messageHandler=new p(e,s),this.currentDivNumber=parseInt(a.id.split(\"-\").pop())}isLastDiv(){if(this.currentDivNumber===g)return!0;let e=g;for(let a=e;a>=0;a--){let s=document.getElementById(`aladin-lite-div-${a}`);if(s&&s.style.display!==\"none\"){e=a;break}}return f(e),this.currentDivNumber===e}updateWCS(){this.isLastDiv()&&this.model.set(\"_wcs\",this.aladin.getViewWCS())}update2AxisFoV(){if(!this.isLastDiv())return;let e=this.aladin.getFov();this.model.set(\"_fov_xy\",{x:e[0],y:e[1]})}subscribeAll(){let e=new m,a=new m;this.aladin.on(\"positionChanged\",t=>{if(a.locked){a.unlock();return}e.lock();let o=[t.ra,t.dec];this.updateWCS(),this.model.set(\"_target\",`${o[0]} ${o[1]}`),this.model.save_changes()}),this.model.on(\"change:_target\",()=>{if(e.locked){e.unlock();return}a.lock();let t=this.model.get(\"_target\"),[o,d]=t.split(\" \");this.aladin.gotoRaDec(o,d)});let s=new m,i=new m;this.aladin.on(\"zoomChanged\",t=>{if(i.locked){i.unlock();return}s.lock(),this.updateWCS(),this.update2AxisFoV(),this.model.set(\"_fov\",parseFloat(t.toFixed(5))),this.model.save_changes()}),this.model.on(\"change:_fov\",()=>{if(s.locked){s.unlock();return}i.lock();let t=this.model.get(\"_fov\");this.aladin.setFoV(t)}),this.model.on(\"change:_height\",()=>{_(this.model.get(\"_height\"),this.aladinDiv),this.updateWCS(),this.update2AxisFoV(),this.model.save_changes()}),this.aladin.on(\"cooFrameChanged\",()=>{this.updateWCS(),this.model.save_changes()}),this.aladin.on(\"projectionChanged\",()=>{this.updateWCS(),this.model.save_changes()}),this.aladin.on(\"layerChanged\",(t,o,d)=>{o===\"base\"&&this.model.set(\"_survey_body\",t.hipsBody||\"sky\"),!(o!==\"base\"||d!==\"ADDED\")&&(this.updateWCS(),this.model.set(\"_base_layer_last_view\",t.id),this.model.save_changes())}),this.aladin.on(\"resizeChanged\",(t,o)=>{if(t===1&&o===1){this.model.set(\"_is_reduced\",!0),this.model.save_changes();return}else this.model.set(\"_is_reduced\",!1);this.updateWCS(),this.update2AxisFoV(),this.model.set(\"_height\",o),this.model.save_changes()}),this.aladin.on(\"objectHovered\",t=>{t.data!==void 0&&this.model.send({event_type:\"object_hovered\",content:{ra:t.ra,dec:t.dec}})}),this.aladin.on(\"objectClicked\",t=>{if(t){let o={ra:t.ra,dec:t.dec};t.data!==void 0&&(o.data=t.data),this.model.set(\"clicked_object\",o),this.model.send({event_type:\"object_clicked\",content:o}),this.model.save_changes()}}),this.aladin.on(\"click\",t=>{this.model.send({event_type:\"click\",content:t})}),this.aladin.on(\"select\",t=>{let o=t.map(c=>c.map(l=>({ra:l.ra,dec:l.dec,data:l.data,x:l.x,y:l.y})));this.model.set(\"_selected_objects\",o),this.model.save_changes();let d=[];t.forEach(c=>{c.forEach(l=>{d.push({ra:l.ra,dec:l.dec,data:l.data,x:l.x,y:l.y})})}),this.model.send({event_type:\"select\",content:d})}),this.model.on(\"change:coo_frame\",()=>{this.aladin.setFrame(this.model.get(\"coo_frame\"))}),this.model.on(\"change:survey\",()=>{this.aladin.setImageSurvey(this.model.get(\"survey\"))}),this.model.on(\"change:overlay_survey\",()=>{this.aladin.setOverlayImageLayer(this.model.get(\"overlay_survey\"))}),this.model.on(\"change:overlay_survey_opacity\",()=>{this.aladin.getOverlayImageLayer().setAlpha(this.model.get(\"overlay_survey_opacity\"))}),this.eventHandlers={add_marker:this.messageHandler.handleAddMarker,change_fov:this.messageHandler.handleChangeFoV,goto_ra_dec:this.messageHandler.handleGotoRaDec,save_view_as_image:this.messageHandler.handleSaveViewAsImage,add_fits:this.messageHandler.handleAddFits,add_catalog_from_URL:this.messageHandler.handleAddCatalogFromURL,add_MOC_from_URL:this.messageHandler.handleAddMOCFromURL,add_MOC_from_dict:this.messageHandler.handleAddMOCFromDict,add_overlay:this.messageHandler.handleAddOverlay,change_colormap:this.messageHandler.handleChangeColormap,get_JPG_thumbnail:this.messageHandler.handleGetJPGThumbnail,trigger_selection:this.messageHandler.handleTriggerSelection,add_table:this.messageHandler.handleAddTable},this.model.on(\"msg:custom\",(t,o)=>{let d=t.event_name,c=this.eventHandlers[d];if(c)c.call(this,t,o);else throw new Error(`Unknown event name: ${d}`)})}unsubscribeAll(){this.model.off(\"change:_target\"),this.model.off(\"change:_fov\"),this.model.off(\"change:_height\"),this.model.off(\"change:coo_frame\"),this.model.off(\"change:survey\"),this.model.off(\"change:overlay_survey\"),this.model.off(\"change:overlay_survey_opacity\"),this.model.off(\"change:trigger_event\"),this.model.off(\"msg:custom\")}};function C(n,e){f(g+1);let a=n.get(\"_init_options\"),s={};for(let l in a)s[v(l)]=a[l];let i=document.createElement(\"div\");i.classList.add(\"aladin-widget\"),_(n.get(\"_height\"),i),i.id=`aladin-lite-div-${g}`;let t=new r.aladin(i,s);e.appendChild(i);let o=n.get(\"_target\").split(\" \");t.gotoRaDec(o[0],o[1]);let d={...t.getFov()};n.set(\"_fov_xy\",{x:d[0],y:d[1]});let c={...t.getViewWCS()};return n.set(\"_wcs\",c),n.set(\"_is_loaded\",!0),n.save_changes(),{aladin:t,aladinDiv:i}}async function k({model:n}){await r.init}function w({model:n,el:e}){let{aladin:a,aladinDiv:s}=C(n,e),i=new u(a,s,n);return i.subscribeAll(),()=>{i.unsubscribeAll()}}var W={initialize:k,render:w};export{W as default};\n",
            "_fov": 17.13569,
            "_fov_xy": {
              "x": 17.13568976561281,
              "y": 4.850867591114738
            },
            "_height": 400,
            "_init_options": {
              "show_simbad_pointer_control": true,
              "show_coo_grid_control": true,
              "show_settings_control": true,
              "show_context_menu": true,
              "fits": "/content/gd1_results.fits"
            },
            "_is_loaded": true,
            "_is_reduced": false,
            "_model_module": "anywidget",
            "_model_module_version": "~0.9.*",
            "_model_name": "AnyModel",
            "_ready": false,
            "_selected_objects": [],
            "_survey_body": "sky",
            "_target": "305.51280012164676 40.178431453323185",
            "_view_count": null,
            "_view_module": "anywidget",
            "_view_module_version": "~0.9.*",
            "_view_name": "AnyView",
            "_wcs": {
              "NAXIS": 2,
              "NAXIS1": 1413,
              "NAXIS2": 400,
              "CRPIX1": 707,
              "CRPIX2": 200.5,
              "CRVAL1": 305.51280012164676,
              "CRVAL2": 40.178431453323185,
              "CTYPE1": "RA---MOL",
              "CTYPE2": "DEC--MOL",
              "CUNIT1": "deg     ",
              "CUNIT2": "deg     ",
              "CDELT1": -0.012127168977786843,
              "CDELT2": 0.012127168977786843,
              "RADESYS": "ICRS    ",
              "LONPOLE": 4.552819312442248
            },
            "clicked_object": {},
            "coo_frame": "ICRS",
            "layout": "IPY_MODEL_df6550a14c564a098ef078461c65f415",
            "overlay_survey": "",
            "overlay_survey_opacity": 0,
            "projection": "SIN",
            "survey": "https://alaskybis.unistra.fr/DSS/DSSColor"
          }
        },
        "058cc8e7639e4d018477c42e086433ab": {
          "model_module": "@jupyter-widgets/base",
          "model_name": "LayoutModel",
          "model_module_version": "1.2.0",
          "state": {
            "_model_module": "@jupyter-widgets/base",
            "_model_module_version": "1.2.0",
            "_model_name": "LayoutModel",
            "_view_count": null,
            "_view_module": "@jupyter-widgets/base",
            "_view_module_version": "1.2.0",
            "_view_name": "LayoutView",
            "align_content": null,
            "align_items": null,
            "align_self": null,
            "border": null,
            "bottom": null,
            "display": null,
            "flex": null,
            "flex_flow": null,
            "grid_area": null,
            "grid_auto_columns": null,
            "grid_auto_flow": null,
            "grid_auto_rows": null,
            "grid_column": null,
            "grid_gap": null,
            "grid_row": null,
            "grid_template_areas": null,
            "grid_template_columns": null,
            "grid_template_rows": null,
            "height": null,
            "justify_content": null,
            "justify_items": null,
            "left": null,
            "margin": null,
            "max_height": null,
            "max_width": null,
            "min_height": null,
            "min_width": null,
            "object_fit": null,
            "object_position": null,
            "order": null,
            "overflow": null,
            "overflow_x": null,
            "overflow_y": null,
            "padding": null,
            "right": null,
            "top": null,
            "visibility": null,
            "width": null
          }
        },
        "df6550a14c564a098ef078461c65f415": {
          "model_module": "@jupyter-widgets/base",
          "model_name": "LayoutModel",
          "model_module_version": "1.2.0",
          "state": {
            "_model_module": "@jupyter-widgets/base",
            "_model_module_version": "1.2.0",
            "_model_name": "LayoutModel",
            "_view_count": null,
            "_view_module": "@jupyter-widgets/base",
            "_view_module_version": "1.2.0",
            "_view_name": "LayoutView",
            "align_content": null,
            "align_items": null,
            "align_self": null,
            "border": null,
            "bottom": null,
            "display": null,
            "flex": null,
            "flex_flow": null,
            "grid_area": null,
            "grid_auto_columns": null,
            "grid_auto_flow": null,
            "grid_auto_rows": null,
            "grid_column": null,
            "grid_gap": null,
            "grid_row": null,
            "grid_template_areas": null,
            "grid_template_columns": null,
            "grid_template_rows": null,
            "height": null,
            "justify_content": null,
            "justify_items": null,
            "left": null,
            "margin": null,
            "max_height": null,
            "max_width": null,
            "min_height": null,
            "min_width": null,
            "object_fit": null,
            "object_position": null,
            "order": null,
            "overflow": null,
            "overflow_x": null,
            "overflow_y": null,
            "padding": null,
            "right": null,
            "top": null,
            "visibility": null,
            "width": null
          }
        }
      }
    }
  },
  "cells": [
    {
      "cell_type": "code",
      "execution_count": null,
      "metadata": {
        "colab": {
          "base_uri": "https://localhost:8080/"
        },
        "id": "vnB9G9mXLGLK",
        "outputId": "b0f3b8a9-7bbe-4c1e-82c5-c7b8a9d35655"
      },
      "outputs": [
        {
          "output_type": "stream",
          "name": "stdout",
          "text": [
            "Collecting astroquery\n",
            "  Downloading astroquery-0.4.7-py3-none-any.whl.metadata (7.2 kB)\n",
            "Collecting astro-gala\n",
            "  Downloading astro-gala-1.2.tar.gz (2.7 MB)\n",
            "\u001b[2K     \u001b[90m━━━━━━━━━━━━━━━━━━━━━━━━━━━━━━━━━━━━━━━━\u001b[0m \u001b[32m2.7/2.7 MB\u001b[0m \u001b[31m9.6 MB/s\u001b[0m eta \u001b[36m0:00:00\u001b[0m\n",
            "\u001b[?25h  \u001b[1;31merror\u001b[0m: \u001b[1msubprocess-exited-with-error\u001b[0m\n",
            "  \n",
            "  \u001b[31m×\u001b[0m \u001b[32mpip subprocess to install build dependencies\u001b[0m did not run successfully.\n",
            "  \u001b[31m│\u001b[0m exit code: \u001b[1;36m1\u001b[0m\n",
            "  \u001b[31m╰─>\u001b[0m See above for output.\n",
            "  \n",
            "  \u001b[1;35mnote\u001b[0m: This error originates from a subprocess, and is likely not a problem with pip.\n",
            "  Installing build dependencies ... \u001b[?25l\u001b[?25herror\n",
            "\u001b[1;31merror\u001b[0m: \u001b[1msubprocess-exited-with-error\u001b[0m\n",
            "\n",
            "\u001b[31m×\u001b[0m \u001b[32mpip subprocess to install build dependencies\u001b[0m did not run successfully.\n",
            "\u001b[31m│\u001b[0m exit code: \u001b[1;36m1\u001b[0m\n",
            "\u001b[31m╰─>\u001b[0m See above for output.\n",
            "\n",
            "\u001b[1;35mnote\u001b[0m: This error originates from a subprocess, and is likely not a problem with pip.\n"
          ]
        }
      ],
      "source": [
        "# If we're running on Colab, install libraries\n",
        "\n",
        "# TODO: When Colab can install gala, switch from astro-gala\n",
        "\n",
        "import sys\n",
        "IN_COLAB = 'google.colab' in sys.modules\n",
        "\n",
        "if IN_COLAB:\n",
        "    !pip install astroquery astro-gala"
      ]
    },
    {
      "cell_type": "markdown",
      "source": [
        "## Working with Units\n",
        "\n",
        "The measurements we will work with are physical quantities, which means that they have two parts, a value and a unit. For example, the coordinate 30∘\n",
        " has value 30 and its units are degrees.\n",
        "\n",
        "Until recently, most scientific computation was done with values only; units were left out of the program altogether, often with catastrophic results.\n",
        "\n",
        "Astropy provides tools for including units explicitly in computations, which makes it possible to detect errors before they cause disasters."
      ],
      "metadata": {
        "id": "Nil7ElKkLdHD"
      }
    },
    {
      "cell_type": "code",
      "source": [
        "import astropy.units as u\n",
        "\n",
        "#u is an object that contains most common units and all SI units."
      ],
      "metadata": {
        "id": "DgNE-EuNLlCg"
      },
      "execution_count": null,
      "outputs": []
    },
    {
      "cell_type": "code",
      "source": [
        "#You can use dir to list them\n",
        "\n",
        "dir(u)"
      ],
      "metadata": {
        "colab": {
          "base_uri": "https://localhost:8080/"
        },
        "id": "sO4slrF0Ltm3",
        "outputId": "020a1721-9fe6-4b44-ea04-0948704b4ad4"
      },
      "execution_count": null,
      "outputs": [
        {
          "output_type": "execute_result",
          "data": {
            "text/plain": [
              "['A',\n",
              " 'AA',\n",
              " 'AB',\n",
              " 'ABflux',\n",
              " 'ABmag',\n",
              " 'AU',\n",
              " 'Angstrom',\n",
              " 'B',\n",
              " 'Ba',\n",
              " 'Barye',\n",
              " 'Bi',\n",
              " 'Biot',\n",
              " 'Bol',\n",
              " 'Bq',\n",
              " 'C',\n",
              " 'Celsius',\n",
              " 'Ci',\n",
              " 'CompositeUnit',\n",
              " 'D',\n",
              " 'DN',\n",
              " 'Da',\n",
              " 'Dalton',\n",
              " 'Debye',\n",
              " 'Decibel',\n",
              " 'DecibelUnit',\n",
              " 'Dex',\n",
              " 'DexUnit',\n",
              " 'EA',\n",
              " 'EAU',\n",
              " 'EB',\n",
              " 'EBa',\n",
              " 'EC',\n",
              " 'ED',\n",
              " 'EF',\n",
              " 'EG',\n",
              " 'EGal',\n",
              " 'EH',\n",
              " 'EHz',\n",
              " 'EJ',\n",
              " 'EJy',\n",
              " 'EK',\n",
              " 'EL',\n",
              " 'EN',\n",
              " 'EOe',\n",
              " 'EOhm',\n",
              " 'EP',\n",
              " 'EPa',\n",
              " 'ER',\n",
              " 'ERy',\n",
              " 'ES',\n",
              " 'ESt',\n",
              " 'ET',\n",
              " 'EV',\n",
              " 'EW',\n",
              " 'EWb',\n",
              " 'Ea',\n",
              " 'Eadu',\n",
              " 'Earcmin',\n",
              " 'Earcsec',\n",
              " 'Eau',\n",
              " 'Eb',\n",
              " 'Ebarn',\n",
              " 'Ebeam',\n",
              " 'Ebin',\n",
              " 'Ebit',\n",
              " 'Ebyte',\n",
              " 'Ecd',\n",
              " 'Echan',\n",
              " 'Ecount',\n",
              " 'Ect',\n",
              " 'Ed',\n",
              " 'Edeg',\n",
              " 'Edyn',\n",
              " 'EeV',\n",
              " 'Eerg',\n",
              " 'Eg',\n",
              " 'Eh',\n",
              " 'EiB',\n",
              " 'Eib',\n",
              " 'Eibit',\n",
              " 'Eibyte',\n",
              " 'Ek',\n",
              " 'El',\n",
              " 'Elm',\n",
              " 'Elx',\n",
              " 'Elyr',\n",
              " 'Em',\n",
              " 'Emag',\n",
              " 'Emin',\n",
              " 'Emol',\n",
              " 'Eohm',\n",
              " 'Epc',\n",
              " 'Eph',\n",
              " 'Ephoton',\n",
              " 'Epix',\n",
              " 'Epixel',\n",
              " 'Equivalency',\n",
              " 'Erad',\n",
              " 'Es',\n",
              " 'Esr',\n",
              " 'Eu',\n",
              " 'Evox',\n",
              " 'Evoxel',\n",
              " 'Eyr',\n",
              " 'F',\n",
              " 'Farad',\n",
              " 'Fr',\n",
              " 'Franklin',\n",
              " 'FunctionQuantity',\n",
              " 'FunctionUnitBase',\n",
              " 'G',\n",
              " 'GA',\n",
              " 'GAU',\n",
              " 'GB',\n",
              " 'GBa',\n",
              " 'GC',\n",
              " 'GD',\n",
              " 'GF',\n",
              " 'GG',\n",
              " 'GGal',\n",
              " 'GH',\n",
              " 'GHz',\n",
              " 'GJ',\n",
              " 'GJy',\n",
              " 'GK',\n",
              " 'GL',\n",
              " 'GN',\n",
              " 'GOe',\n",
              " 'GOhm',\n",
              " 'GP',\n",
              " 'GPa',\n",
              " 'GR',\n",
              " 'GRy',\n",
              " 'GS',\n",
              " 'GSt',\n",
              " 'GT',\n",
              " 'GV',\n",
              " 'GW',\n",
              " 'GWb',\n",
              " 'Ga',\n",
              " 'Gadu',\n",
              " 'Gal',\n",
              " 'Garcmin',\n",
              " 'Garcsec',\n",
              " 'Gau',\n",
              " 'Gauss',\n",
              " 'Gb',\n",
              " 'Gbarn',\n",
              " 'Gbeam',\n",
              " 'Gbin',\n",
              " 'Gbit',\n",
              " 'Gbyte',\n",
              " 'Gcd',\n",
              " 'Gchan',\n",
              " 'Gcount',\n",
              " 'Gct',\n",
              " 'Gd',\n",
              " 'Gdeg',\n",
              " 'Gdyn',\n",
              " 'GeV',\n",
              " 'Gerg',\n",
              " 'Gg',\n",
              " 'Gh',\n",
              " 'GiB',\n",
              " 'Gib',\n",
              " 'Gibit',\n",
              " 'Gibyte',\n",
              " 'Gk',\n",
              " 'Gl',\n",
              " 'Glm',\n",
              " 'Glx',\n",
              " 'Glyr',\n",
              " 'Gm',\n",
              " 'Gmag',\n",
              " 'Gmin',\n",
              " 'Gmol',\n",
              " 'Gohm',\n",
              " 'Gpc',\n",
              " 'Gph',\n",
              " 'Gphoton',\n",
              " 'Gpix',\n",
              " 'Gpixel',\n",
              " 'Grad',\n",
              " 'Gs',\n",
              " 'Gsr',\n",
              " 'Gu',\n",
              " 'Gvox',\n",
              " 'Gvoxel',\n",
              " 'Gyr',\n",
              " 'H',\n",
              " 'Henry',\n",
              " 'Hertz',\n",
              " 'Hz',\n",
              " 'IrreducibleUnit',\n",
              " 'J',\n",
              " 'Jansky',\n",
              " 'Joule',\n",
              " 'Jy',\n",
              " 'K',\n",
              " 'Kayser',\n",
              " 'Kelvin',\n",
              " 'KiB',\n",
              " 'Kib',\n",
              " 'Kibit',\n",
              " 'Kibyte',\n",
              " 'L',\n",
              " 'L_bol',\n",
              " 'L_sun',\n",
              " 'LogQuantity',\n",
              " 'LogUnit',\n",
              " 'Lsun',\n",
              " 'MA',\n",
              " 'MAU',\n",
              " 'MB',\n",
              " 'MBa',\n",
              " 'MC',\n",
              " 'MD',\n",
              " 'MF',\n",
              " 'MG',\n",
              " 'MGal',\n",
              " 'MH',\n",
              " 'MHz',\n",
              " 'MJ',\n",
              " 'MJy',\n",
              " 'MK',\n",
              " 'ML',\n",
              " 'MN',\n",
              " 'MOe',\n",
              " 'MOhm',\n",
              " 'MP',\n",
              " 'MPa',\n",
              " 'MR',\n",
              " 'MRy',\n",
              " 'MS',\n",
              " 'MSt',\n",
              " 'MT',\n",
              " 'MV',\n",
              " 'MW',\n",
              " 'MWb',\n",
              " 'M_bol',\n",
              " 'M_e',\n",
              " 'M_earth',\n",
              " 'M_jup',\n",
              " 'M_jupiter',\n",
              " 'M_p',\n",
              " 'M_sun',\n",
              " 'Ma',\n",
              " 'Madu',\n",
              " 'MagUnit',\n",
              " 'Magnitude',\n",
              " 'Marcmin',\n",
              " 'Marcsec',\n",
              " 'Mau',\n",
              " 'Maxwell',\n",
              " 'Mb',\n",
              " 'Mbarn',\n",
              " 'Mbeam',\n",
              " 'Mbin',\n",
              " 'Mbit',\n",
              " 'Mbyte',\n",
              " 'Mcd',\n",
              " 'Mchan',\n",
              " 'Mcount',\n",
              " 'Mct',\n",
              " 'Md',\n",
              " 'Mdeg',\n",
              " 'Mdyn',\n",
              " 'MeV',\n",
              " 'Mearth',\n",
              " 'Merg',\n",
              " 'Mg',\n",
              " 'Mh',\n",
              " 'MiB',\n",
              " 'Mib',\n",
              " 'Mibit',\n",
              " 'Mibyte',\n",
              " 'Mjup',\n",
              " 'Mjupiter',\n",
              " 'Mk',\n",
              " 'Ml',\n",
              " 'Mlm',\n",
              " 'Mlx',\n",
              " 'Mlyr',\n",
              " 'Mm',\n",
              " 'Mmag',\n",
              " 'Mmin',\n",
              " 'Mmol',\n",
              " 'Mohm',\n",
              " 'Mpc',\n",
              " 'Mph',\n",
              " 'Mphoton',\n",
              " 'Mpix',\n",
              " 'Mpixel',\n",
              " 'Mrad',\n",
              " 'Ms',\n",
              " 'Msr',\n",
              " 'Msun',\n",
              " 'Mu',\n",
              " 'Mvox',\n",
              " 'Mvoxel',\n",
              " 'Mx',\n",
              " 'Myr',\n",
              " 'N',\n",
              " 'NamedUnit',\n",
              " 'Newton',\n",
              " 'Oe',\n",
              " 'Oersted',\n",
              " 'Ohm',\n",
              " 'P',\n",
              " 'PA',\n",
              " 'PAU',\n",
              " 'PB',\n",
              " 'PBa',\n",
              " 'PC',\n",
              " 'PD',\n",
              " 'PF',\n",
              " 'PG',\n",
              " 'PGal',\n",
              " 'PH',\n",
              " 'PHz',\n",
              " 'PJ',\n",
              " 'PJy',\n",
              " 'PK',\n",
              " 'PL',\n",
              " 'PN',\n",
              " 'POe',\n",
              " 'POhm',\n",
              " 'PP',\n",
              " 'PPa',\n",
              " 'PR',\n",
              " 'PRy',\n",
              " 'PS',\n",
              " 'PSt',\n",
              " 'PT',\n",
              " 'PV',\n",
              " 'PW',\n",
              " 'PWb',\n",
              " 'Pa',\n",
              " 'Padu',\n",
              " 'Parcmin',\n",
              " 'Parcsec',\n",
              " 'Pascal',\n",
              " 'Pau',\n",
              " 'Pb',\n",
              " 'Pbarn',\n",
              " 'Pbeam',\n",
              " 'Pbin',\n",
              " 'Pbit',\n",
              " 'Pbyte',\n",
              " 'Pcd',\n",
              " 'Pchan',\n",
              " 'Pcount',\n",
              " 'Pct',\n",
              " 'Pd',\n",
              " 'Pdeg',\n",
              " 'Pdyn',\n",
              " 'PeV',\n",
              " 'Perg',\n",
              " 'Pg',\n",
              " 'Ph',\n",
              " 'PhysicalType',\n",
              " 'PiB',\n",
              " 'Pib',\n",
              " 'Pibit',\n",
              " 'Pibyte',\n",
              " 'Pk',\n",
              " 'Pl',\n",
              " 'Plm',\n",
              " 'Plx',\n",
              " 'Plyr',\n",
              " 'Pm',\n",
              " 'Pmag',\n",
              " 'Pmin',\n",
              " 'Pmol',\n",
              " 'Pohm',\n",
              " 'Ppc',\n",
              " 'Pph',\n",
              " 'Pphoton',\n",
              " 'Ppix',\n",
              " 'Ppixel',\n",
              " 'Prad',\n",
              " 'PrefixUnit',\n",
              " 'Ps',\n",
              " 'Psr',\n",
              " 'Pu',\n",
              " 'Pvox',\n",
              " 'Pvoxel',\n",
              " 'Pyr',\n",
              " 'QA',\n",
              " 'QAU',\n",
              " 'QB',\n",
              " 'QBa',\n",
              " 'QC',\n",
              " 'QD',\n",
              " 'QF',\n",
              " 'QG',\n",
              " 'QGal',\n",
              " 'QH',\n",
              " 'QHz',\n",
              " 'QJ',\n",
              " 'QJy',\n",
              " 'QK',\n",
              " 'QL',\n",
              " 'QN',\n",
              " 'QOe',\n",
              " 'QOhm',\n",
              " 'QP',\n",
              " 'QPa',\n",
              " 'QR',\n",
              " 'QRy',\n",
              " 'QS',\n",
              " 'QSt',\n",
              " 'QT',\n",
              " 'QV',\n",
              " 'QW',\n",
              " 'QWb',\n",
              " 'Qa',\n",
              " 'Qadu',\n",
              " 'Qarcmin',\n",
              " 'Qarcsec',\n",
              " 'Qau',\n",
              " 'Qb',\n",
              " 'Qbarn',\n",
              " 'Qbeam',\n",
              " 'Qbin',\n",
              " 'Qbit',\n",
              " 'Qbyte',\n",
              " 'Qcd',\n",
              " 'Qchan',\n",
              " 'Qcount',\n",
              " 'Qct',\n",
              " 'Qd',\n",
              " 'Qdeg',\n",
              " 'Qdyn',\n",
              " 'QeV',\n",
              " 'Qerg',\n",
              " 'Qg',\n",
              " 'Qh',\n",
              " 'Qk',\n",
              " 'Ql',\n",
              " 'Qlm',\n",
              " 'Qlx',\n",
              " 'Qlyr',\n",
              " 'Qm',\n",
              " 'Qmag',\n",
              " 'Qmin',\n",
              " 'Qmol',\n",
              " 'Qohm',\n",
              " 'Qpc',\n",
              " 'Qph',\n",
              " 'Qphoton',\n",
              " 'Qpix',\n",
              " 'Qpixel',\n",
              " 'Qrad',\n",
              " 'Qs',\n",
              " 'Qsr',\n",
              " 'Qu',\n",
              " 'Quantity',\n",
              " 'QuantityInfo',\n",
              " 'QuantityInfoBase',\n",
              " 'Qvox',\n",
              " 'Qvoxel',\n",
              " 'Qyr',\n",
              " 'R',\n",
              " 'RA',\n",
              " 'RAU',\n",
              " 'RB',\n",
              " 'RBa',\n",
              " 'RC',\n",
              " 'RD',\n",
              " 'RF',\n",
              " 'RG',\n",
              " 'RGal',\n",
              " 'RH',\n",
              " 'RHz',\n",
              " 'RJ',\n",
              " 'RJy',\n",
              " 'RK',\n",
              " 'RL',\n",
              " 'RN',\n",
              " 'ROe',\n",
              " 'ROhm',\n",
              " 'RP',\n",
              " 'RPa',\n",
              " 'RR',\n",
              " 'RRy',\n",
              " 'RS',\n",
              " 'RSt',\n",
              " 'RT',\n",
              " 'RV',\n",
              " 'RW',\n",
              " 'RWb',\n",
              " 'R_earth',\n",
              " 'R_jup',\n",
              " 'R_jupiter',\n",
              " 'R_sun',\n",
              " 'Ra',\n",
              " 'Radu',\n",
              " 'Rarcmin',\n",
              " 'Rarcsec',\n",
              " 'Rau',\n",
              " 'Rayleigh',\n",
              " 'Rb',\n",
              " 'Rbarn',\n",
              " 'Rbeam',\n",
              " 'Rbin',\n",
              " 'Rbit',\n",
              " 'Rbyte',\n",
              " 'Rcd',\n",
              " 'Rchan',\n",
              " 'Rcount',\n",
              " 'Rct',\n",
              " 'Rd',\n",
              " 'Rdeg',\n",
              " 'Rdyn',\n",
              " 'ReV',\n",
              " 'Rearth',\n",
              " 'Rerg',\n",
              " 'Rg',\n",
              " 'Rh',\n",
              " 'Rjup',\n",
              " 'Rjupiter',\n",
              " 'Rk',\n",
              " 'Rl',\n",
              " 'Rlm',\n",
              " 'Rlx',\n",
              " 'Rlyr',\n",
              " 'Rm',\n",
              " 'Rmag',\n",
              " 'Rmin',\n",
              " 'Rmol',\n",
              " 'Rohm',\n",
              " 'Rpc',\n",
              " 'Rph',\n",
              " 'Rphoton',\n",
              " 'Rpix',\n",
              " 'Rpixel',\n",
              " 'Rrad',\n",
              " 'Rs',\n",
              " 'Rsr',\n",
              " 'Rsun',\n",
              " 'Ru',\n",
              " 'Rvox',\n",
              " 'Rvoxel',\n",
              " 'Ry',\n",
              " 'Ryr',\n",
              " 'S',\n",
              " 'ST',\n",
              " 'STflux',\n",
              " 'STmag',\n",
              " 'Siemens',\n",
              " 'SpecificTypeQuantity',\n",
              " 'St',\n",
              " 'StructuredUnit',\n",
              " 'Sun',\n",
              " 'T',\n",
              " 'TA',\n",
              " 'TAU',\n",
              " 'TB',\n",
              " 'TBa',\n",
              " 'TC',\n",
              " 'TD',\n",
              " 'TF',\n",
              " 'TG',\n",
              " 'TGal',\n",
              " 'TH',\n",
              " 'THz',\n",
              " 'TJ',\n",
              " 'TJy',\n",
              " 'TK',\n",
              " 'TL',\n",
              " 'TN',\n",
              " 'TOe',\n",
              " 'TOhm',\n",
              " 'TP',\n",
              " 'TPa',\n",
              " 'TR',\n",
              " 'TRy',\n",
              " 'TS',\n",
              " 'TSt',\n",
              " 'TT',\n",
              " 'TV',\n",
              " 'TW',\n",
              " 'TWb',\n",
              " 'Ta',\n",
              " 'Tadu',\n",
              " 'Tarcmin',\n",
              " 'Tarcsec',\n",
              " 'Tau',\n",
              " 'Tb',\n",
              " 'Tbarn',\n",
              " 'Tbeam',\n",
              " 'Tbin',\n",
              " 'Tbit',\n",
              " 'Tbyte',\n",
              " 'Tcd',\n",
              " 'Tchan',\n",
              " 'Tcount',\n",
              " 'Tct',\n",
              " 'Td',\n",
              " 'Tdeg',\n",
              " 'Tdyn',\n",
              " 'TeV',\n",
              " 'Terg',\n",
              " 'Tesla',\n",
              " 'Tg',\n",
              " 'Th',\n",
              " 'TiB',\n",
              " 'Tib',\n",
              " 'Tibit',\n",
              " 'Tibyte',\n",
              " 'Tk',\n",
              " 'Tl',\n",
              " 'Tlm',\n",
              " 'Tlx',\n",
              " 'Tlyr',\n",
              " 'Tm',\n",
              " 'Tmag',\n",
              " 'Tmin',\n",
              " 'Tmol',\n",
              " 'Tohm',\n",
              " 'Torr',\n",
              " 'Tpc',\n",
              " 'Tph',\n",
              " 'Tphoton',\n",
              " 'Tpix',\n",
              " 'Tpixel',\n",
              " 'Trad',\n",
              " 'Ts',\n",
              " 'Tsr',\n",
              " 'Tu',\n",
              " 'Tvox',\n",
              " 'Tvoxel',\n",
              " 'Tyr',\n",
              " 'Unit',\n",
              " 'UnitBase',\n",
              " 'UnitConversionError',\n",
              " 'UnitScaleError',\n",
              " 'UnitTypeError',\n",
              " 'UnitsError',\n",
              " 'UnitsWarning',\n",
              " 'UnrecognizedUnit',\n",
              " 'V',\n",
              " 'Volt',\n",
              " 'W',\n",
              " 'Watt',\n",
              " 'Wb',\n",
              " 'Weber',\n",
              " 'YA',\n",
              " 'YAU',\n",
              " 'YB',\n",
              " 'YBa',\n",
              " 'YC',\n",
              " 'YD',\n",
              " 'YF',\n",
              " 'YG',\n",
              " 'YGal',\n",
              " 'YH',\n",
              " 'YHz',\n",
              " 'YJ',\n",
              " 'YJy',\n",
              " 'YK',\n",
              " 'YL',\n",
              " 'YN',\n",
              " 'YOe',\n",
              " 'YOhm',\n",
              " 'YP',\n",
              " 'YPa',\n",
              " 'YR',\n",
              " 'YRy',\n",
              " 'YS',\n",
              " 'YSt',\n",
              " 'YT',\n",
              " 'YV',\n",
              " 'YW',\n",
              " 'YWb',\n",
              " 'Ya',\n",
              " 'Yadu',\n",
              " 'Yarcmin',\n",
              " 'Yarcsec',\n",
              " 'Yau',\n",
              " 'Yb',\n",
              " 'Ybarn',\n",
              " 'Ybeam',\n",
              " 'Ybin',\n",
              " 'Ybit',\n",
              " 'Ybyte',\n",
              " 'Ycd',\n",
              " 'Ychan',\n",
              " 'Ycount',\n",
              " 'Yct',\n",
              " 'Yd',\n",
              " 'Ydeg',\n",
              " 'Ydyn',\n",
              " 'YeV',\n",
              " 'Yerg',\n",
              " 'Yg',\n",
              " 'Yh',\n",
              " 'Yk',\n",
              " 'Yl',\n",
              " 'Ylm',\n",
              " 'Ylx',\n",
              " 'Ylyr',\n",
              " 'Ym',\n",
              " 'Ymag',\n",
              " 'Ymin',\n",
              " 'Ymol',\n",
              " 'Yohm',\n",
              " 'Ypc',\n",
              " 'Yph',\n",
              " 'Yphoton',\n",
              " 'Ypix',\n",
              " 'Ypixel',\n",
              " 'Yrad',\n",
              " 'Ys',\n",
              " 'Ysr',\n",
              " 'Yu',\n",
              " 'Yvox',\n",
              " 'Yvoxel',\n",
              " 'Yyr',\n",
              " 'ZA',\n",
              " 'ZAU',\n",
              " 'ZB',\n",
              " 'ZBa',\n",
              " 'ZC',\n",
              " 'ZD',\n",
              " 'ZF',\n",
              " 'ZG',\n",
              " 'ZGal',\n",
              " 'ZH',\n",
              " 'ZHz',\n",
              " 'ZJ',\n",
              " 'ZJy',\n",
              " 'ZK',\n",
              " 'ZL',\n",
              " 'ZN',\n",
              " 'ZOe',\n",
              " 'ZOhm',\n",
              " 'ZP',\n",
              " 'ZPa',\n",
              " 'ZR',\n",
              " 'ZRy',\n",
              " 'ZS',\n",
              " 'ZSt',\n",
              " 'ZT',\n",
              " 'ZV',\n",
              " 'ZW',\n",
              " 'ZWb',\n",
              " 'Za',\n",
              " 'Zadu',\n",
              " 'Zarcmin',\n",
              " 'Zarcsec',\n",
              " 'Zau',\n",
              " 'Zb',\n",
              " 'Zbarn',\n",
              " 'Zbeam',\n",
              " 'Zbin',\n",
              " 'Zbit',\n",
              " 'Zbyte',\n",
              " 'Zcd',\n",
              " 'Zchan',\n",
              " 'Zcount',\n",
              " 'Zct',\n",
              " 'Zd',\n",
              " 'Zdeg',\n",
              " 'Zdyn',\n",
              " 'ZeV',\n",
              " 'Zerg',\n",
              " 'Zg',\n",
              " 'Zh',\n",
              " 'Zk',\n",
              " 'Zl',\n",
              " 'Zlm',\n",
              " 'Zlx',\n",
              " 'Zlyr',\n",
              " 'Zm',\n",
              " 'Zmag',\n",
              " 'Zmin',\n",
              " 'Zmol',\n",
              " 'Zohm',\n",
              " 'Zpc',\n",
              " 'Zph',\n",
              " 'Zphoton',\n",
              " 'Zpix',\n",
              " 'Zpixel',\n",
              " 'Zrad',\n",
              " 'Zs',\n",
              " 'Zsr',\n",
              " 'Zu',\n",
              " 'Zvox',\n",
              " 'Zvoxel',\n",
              " 'Zyr',\n",
              " '__all__',\n",
              " '__builtins__',\n",
              " '__cached__',\n",
              " '__doc__',\n",
              " '__file__',\n",
              " '__loader__',\n",
              " '__name__',\n",
              " '__package__',\n",
              " '__path__',\n",
              " '__spec__',\n",
              " 'a',\n",
              " 'aA',\n",
              " 'aAU',\n",
              " 'aB',\n",
              " 'aBa',\n",
              " 'aC',\n",
              " 'aD',\n",
              " 'aF',\n",
              " 'aG',\n",
              " 'aGal',\n",
              " 'aH',\n",
              " 'aHz',\n",
              " 'aJ',\n",
              " 'aJy',\n",
              " 'aK',\n",
              " 'aL',\n",
              " 'aN',\n",
              " 'aOe',\n",
              " 'aOhm',\n",
              " 'aP',\n",
              " 'aPa',\n",
              " 'aR',\n",
              " 'aRy',\n",
              " 'aS',\n",
              " 'aSt',\n",
              " 'aT',\n",
              " 'aV',\n",
              " 'aW',\n",
              " 'aWb',\n",
              " 'aa',\n",
              " 'aadu',\n",
              " 'aarcmin',\n",
              " 'aarcsec',\n",
              " 'aau',\n",
              " 'ab',\n",
              " 'abA',\n",
              " 'abC',\n",
              " 'abampere',\n",
              " 'abarn',\n",
              " 'abcoulomb',\n",
              " 'abeam',\n",
              " 'abin',\n",
              " 'abit',\n",
              " 'abyte',\n",
              " 'acd',\n",
              " 'achan',\n",
              " 'acount',\n",
              " 'act',\n",
              " 'ad',\n",
              " 'add_enabled_aliases',\n",
              " 'add_enabled_equivalencies',\n",
              " 'add_enabled_units',\n",
              " 'adeg',\n",
              " 'adu',\n",
              " 'adyn',\n",
              " 'aeV',\n",
              " 'aerg',\n",
              " 'ag',\n",
              " 'ah',\n",
              " 'ak',\n",
              " 'al',\n",
              " 'allclose',\n",
              " 'alm',\n",
              " 'alx',\n",
              " 'alyr',\n",
              " 'am',\n",
              " 'amag',\n",
              " 'amin',\n",
              " 'amol',\n",
              " 'amp',\n",
              " 'ampere',\n",
              " 'angstrom',\n",
              " 'annum',\n",
              " 'aohm',\n",
              " 'apc',\n",
              " 'aph',\n",
              " 'aphoton',\n",
              " 'apix',\n",
              " 'apixel',\n",
              " 'arad',\n",
              " 'arcmin',\n",
              " 'arcminute',\n",
              " 'arcsec',\n",
              " 'arcsecond',\n",
              " 'asr',\n",
              " 'astronomical_unit',\n",
              " 'astrophys',\n",
              " 'attoBarye',\n",
              " 'attoDa',\n",
              " 'attoDalton',\n",
              " 'attoDebye',\n",
              " 'attoFarad',\n",
              " 'attoGauss',\n",
              " 'attoHenry',\n",
              " 'attoHertz',\n",
              " 'attoJansky',\n",
              " 'attoJoule',\n",
              " 'attoKayser',\n",
              " 'attoKelvin',\n",
              " 'attoNewton',\n",
              " 'attoOersted',\n",
              " 'attoOhm',\n",
              " 'attoPascal',\n",
              " 'attoRayleigh',\n",
              " 'attoSiemens',\n",
              " 'attoTesla',\n",
              " 'attoVolt',\n",
              " 'attoWatt',\n",
              " 'attoWeber',\n",
              " 'attoamp',\n",
              " 'attoampere',\n",
              " 'attoannum',\n",
              " 'attoarcminute',\n",
              " 'attoarcsecond',\n",
              " 'attoastronomical_unit',\n",
              " 'attobarn',\n",
              " 'attobarye',\n",
              " 'attobit',\n",
              " 'attobyte',\n",
              " 'attocandela',\n",
              " 'attocoulomb',\n",
              " 'attocount',\n",
              " 'attoday',\n",
              " 'attodebye',\n",
              " 'attodegree',\n",
              " 'attodyne',\n",
              " 'attoelectronvolt',\n",
              " 'attofarad',\n",
              " 'attogal',\n",
              " 'attogauss',\n",
              " 'attogram',\n",
              " 'attohenry',\n",
              " 'attohertz',\n",
              " 'attohour',\n",
              " 'attohr',\n",
              " 'attojansky',\n",
              " 'attojoule',\n",
              " 'attokayser',\n",
              " 'attolightyear',\n",
              " 'attoliter',\n",
              " 'attolumen',\n",
              " 'attolux',\n",
              " 'attometer',\n",
              " 'attominute',\n",
              " 'attomole',\n",
              " 'attonewton',\n",
              " 'attooersted',\n",
              " 'attoparsec',\n",
              " 'attopascal',\n",
              " 'attophoton',\n",
              " 'attopixel',\n",
              " 'attopoise',\n",
              " 'attoradian',\n",
              " 'attorayleigh',\n",
              " 'attorydberg',\n",
              " 'attosecond',\n",
              " 'attosiemens',\n",
              " 'attosteradian',\n",
              " 'attostokes',\n",
              " 'attotesla',\n",
              " 'attovolt',\n",
              " 'attovoxel',\n",
              " 'attowatt',\n",
              " 'attoweber',\n",
              " 'attoyear',\n",
              " 'au',\n",
              " 'avox',\n",
              " 'avoxel',\n",
              " 'ayr',\n",
              " 'b',\n",
              " 'bar',\n",
              " 'barn',\n",
              " 'barye',\n",
              " 'beam',\n",
              " 'beam_angular_area',\n",
              " 'becquerel',\n",
              " 'bin',\n",
              " 'bit',\n",
              " 'bol',\n",
              " 'brightness_temperature',\n",
              " 'byte',\n",
              " 'cA',\n",
              " 'cAU',\n",
              " 'cB',\n",
              " 'cBa',\n",
              " 'cC',\n",
              " 'cD',\n",
              " 'cF',\n",
              " 'cG',\n",
              " 'cGal',\n",
              " 'cH',\n",
              " 'cHz',\n",
              " 'cJ',\n",
              " 'cJy',\n",
              " 'cK',\n",
              " 'cL',\n",
              " 'cN',\n",
              " 'cOe',\n",
              " ...]"
            ]
          },
          "metadata": {},
          "execution_count": 4
        }
      ]
    },
    {
      "cell_type": "code",
      "source": [
        "#To create a quantity, we multiply a value by a unit.\n",
        "angle = 10 * u.degree\n",
        "type(angle)\n",
        "\n"
      ],
      "metadata": {
        "colab": {
          "base_uri": "https://localhost:8080/"
        },
        "id": "hVATlCMmL07Q",
        "outputId": "dee3af18-b0bd-4839-a9e2-ab8e5293bedc"
      },
      "execution_count": null,
      "outputs": [
        {
          "output_type": "execute_result",
          "data": {
            "text/plain": [
              "astropy.units.quantity.Quantity"
            ]
          },
          "metadata": {},
          "execution_count": 6
        }
      ]
    },
    {
      "cell_type": "code",
      "source": [
        "##The result is a Quantity object. Jupyter knows how to display Quantities like this:\n",
        "angle"
      ],
      "metadata": {
        "colab": {
          "base_uri": "https://localhost:8080/",
          "height": 37
        },
        "id": "rESm1bLGL1DP",
        "outputId": "d0adefa5-0334-4652-9cd3-e95d3cf335e5"
      },
      "execution_count": null,
      "outputs": [
        {
          "output_type": "execute_result",
          "data": {
            "text/plain": [
              "<Quantity 10. deg>"
            ],
            "text/latex": "$10\\mathrm{{}^{\\circ}}$"
          },
          "metadata": {},
          "execution_count": 8
        }
      ]
    },
    {
      "cell_type": "code",
      "source": [
        "#Quantities provide a method called to that converts to other units. For example, we can compute the number of arcminutes in angle:\n",
        "\n",
        "angle_arcmin = angle.to(u.arcmin)\n",
        "angle_arcmin"
      ],
      "metadata": {
        "colab": {
          "base_uri": "https://localhost:8080/",
          "height": 37
        },
        "id": "3GYLLIIQMGMs",
        "outputId": "21e912ed-5923-4cf4-f63a-4aad0e5e6231"
      },
      "execution_count": null,
      "outputs": [
        {
          "output_type": "execute_result",
          "data": {
            "text/plain": [
              "<Quantity 600. arcmin>"
            ],
            "text/latex": "$600\\mathrm{{}^{\\prime}}$"
          },
          "metadata": {},
          "execution_count": 9
        }
      ]
    },
    {
      "cell_type": "code",
      "source": [
        "#If you add quantities, Astropy converts them to compatible units, if possible:\n",
        "angle + 30 * u.arcmin"
      ],
      "metadata": {
        "colab": {
          "base_uri": "https://localhost:8080/",
          "height": 37
        },
        "id": "z1YkdGvsMUTJ",
        "outputId": "c93cbdd0-d874-495c-97db-c35546daecaa"
      },
      "execution_count": null,
      "outputs": [
        {
          "output_type": "execute_result",
          "data": {
            "text/plain": [
              "<Quantity 10.5 deg>"
            ],
            "text/latex": "$10.5\\mathrm{{}^{\\circ}}$"
          },
          "metadata": {},
          "execution_count": 10
        }
      ]
    },
    {
      "cell_type": "markdown",
      "source": [
        "*If the units are not compatible, you get an error. For example:*\n",
        "\n",
        "->angle + 5 * u.second\n",
        "\n",
        "causes a UnitConversionError"
      ],
      "metadata": {
        "id": "8yRelU7cMkYa"
      }
    },
    {
      "cell_type": "markdown",
      "source": [
        "***Let's Create a quantity that represents 5 arcminutes and assign it to a variable called radius***"
      ],
      "metadata": {
        "id": "NHzkS6RZM1n4"
      }
    },
    {
      "cell_type": "code",
      "source": [
        "radius = 5 * u.arcmin\n",
        "radius"
      ],
      "metadata": {
        "colab": {
          "base_uri": "https://localhost:8080/",
          "height": 37
        },
        "id": "iimnfEbTMUYj",
        "outputId": "317204a4-90b7-4233-d956-d4bbad793715"
      },
      "execution_count": null,
      "outputs": [
        {
          "output_type": "execute_result",
          "data": {
            "text/plain": [
              "<Quantity 5. arcmin>"
            ],
            "text/latex": "$5\\mathrm{{}^{\\prime}}$"
          },
          "metadata": {},
          "execution_count": 14
        }
      ]
    },
    {
      "cell_type": "markdown",
      "source": [
        "**Selecting a Region**\n",
        "\n",
        "One of the most common ways to restrict a query is to select stars in a particular region of the sky."
      ],
      "metadata": {
        "id": "FFszjskLOmqZ"
      }
    },
    {
      "cell_type": "code",
      "source": [
        "#here's a query that selects objects in a circular region centered at (88.8, 7.4) with a search radius of 5 arcmin (0.08333 deg).\n",
        "\n",
        "query_cone = \"\"\"SELECT\n",
        "TOP 10\n",
        "source_id\n",
        "FROM gaiadr2.gaia_source\n",
        "WHERE 1=CONTAINS(\n",
        "  POINT(ra, dec),\n",
        "  CIRCLE(88.8, 7.4, 0.08333333))\n",
        "\"\"\""
      ],
      "metadata": {
        "id": "ZxIwIF5_Ohlg"
      },
      "execution_count": null,
      "outputs": []
    },
    {
      "cell_type": "code",
      "source": [
        "!pip install astroquery"
      ],
      "metadata": {
        "colab": {
          "base_uri": "https://localhost:8080/"
        },
        "id": "tu6jbLFwPW_Y",
        "outputId": "9598640d-f7e0-4d37-955f-6e800a4fe8d4"
      },
      "execution_count": null,
      "outputs": [
        {
          "output_type": "stream",
          "name": "stdout",
          "text": [
            "Collecting astroquery\n",
            "  Using cached astroquery-0.4.7-py3-none-any.whl.metadata (7.2 kB)\n",
            "Requirement already satisfied: numpy>=1.18 in /usr/local/lib/python3.10/dist-packages (from astroquery) (1.26.4)\n",
            "Requirement already satisfied: astropy>=4.2.1 in /usr/local/lib/python3.10/dist-packages (from astroquery) (6.1.7)\n",
            "Requirement already satisfied: requests>=2.19 in /usr/local/lib/python3.10/dist-packages (from astroquery) (2.32.3)\n",
            "Requirement already satisfied: beautifulsoup4>=4.8 in /usr/local/lib/python3.10/dist-packages (from astroquery) (4.12.3)\n",
            "Requirement already satisfied: html5lib>=0.999 in /usr/local/lib/python3.10/dist-packages (from astroquery) (1.1)\n",
            "Requirement already satisfied: keyring>=15.0 in /usr/lib/python3/dist-packages (from astroquery) (23.5.0)\n",
            "Collecting pyvo>=1.1 (from astroquery)\n",
            "  Downloading pyvo-1.6-py3-none-any.whl.metadata (4.8 kB)\n",
            "Requirement already satisfied: pyerfa>=2.0.1.1 in /usr/local/lib/python3.10/dist-packages (from astropy>=4.2.1->astroquery) (2.0.1.5)\n",
            "Requirement already satisfied: astropy-iers-data>=0.2024.10.28.0.34.7 in /usr/local/lib/python3.10/dist-packages (from astropy>=4.2.1->astroquery) (0.2024.12.16.0.35.48)\n",
            "Requirement already satisfied: PyYAML>=3.13 in /usr/local/lib/python3.10/dist-packages (from astropy>=4.2.1->astroquery) (6.0.2)\n",
            "Requirement already satisfied: packaging>=19.0 in /usr/local/lib/python3.10/dist-packages (from astropy>=4.2.1->astroquery) (24.2)\n",
            "Requirement already satisfied: soupsieve>1.2 in /usr/local/lib/python3.10/dist-packages (from beautifulsoup4>=4.8->astroquery) (2.6)\n",
            "Requirement already satisfied: six>=1.9 in /usr/local/lib/python3.10/dist-packages (from html5lib>=0.999->astroquery) (1.17.0)\n",
            "Requirement already satisfied: webencodings in /usr/local/lib/python3.10/dist-packages (from html5lib>=0.999->astroquery) (0.5.1)\n",
            "Requirement already satisfied: charset-normalizer<4,>=2 in /usr/local/lib/python3.10/dist-packages (from requests>=2.19->astroquery) (3.4.0)\n",
            "Requirement already satisfied: idna<4,>=2.5 in /usr/local/lib/python3.10/dist-packages (from requests>=2.19->astroquery) (3.10)\n",
            "Requirement already satisfied: urllib3<3,>=1.21.1 in /usr/local/lib/python3.10/dist-packages (from requests>=2.19->astroquery) (2.2.3)\n",
            "Requirement already satisfied: certifi>=2017.4.17 in /usr/local/lib/python3.10/dist-packages (from requests>=2.19->astroquery) (2024.12.14)\n",
            "Downloading astroquery-0.4.7-py3-none-any.whl (5.3 MB)\n",
            "\u001b[2K   \u001b[90m━━━━━━━━━━━━━━━━━━━━━━━━━━━━━━━━━━━━━━━━\u001b[0m \u001b[32m5.3/5.3 MB\u001b[0m \u001b[31m63.0 MB/s\u001b[0m eta \u001b[36m0:00:00\u001b[0m\n",
            "\u001b[?25hDownloading pyvo-1.6-py3-none-any.whl (994 kB)\n",
            "\u001b[2K   \u001b[90m━━━━━━━━━━━━━━━━━━━━━━━━━━━━━━━━━━━━━━━━\u001b[0m \u001b[32m994.8/994.8 kB\u001b[0m \u001b[31m37.3 MB/s\u001b[0m eta \u001b[36m0:00:00\u001b[0m\n",
            "\u001b[?25hInstalling collected packages: pyvo, astroquery\n",
            "Successfully installed astroquery-0.4.7 pyvo-1.6\n"
          ]
        }
      ]
    },
    {
      "cell_type": "markdown",
      "source": [
        "A query like this is called a cone search because it selects stars in a cone. Here's how we run it."
      ],
      "metadata": {
        "id": "jHa3zTvmO9iI"
      }
    },
    {
      "cell_type": "code",
      "source": [
        "from astroquery.gaia import Gaia\n",
        "\n",
        "job = Gaia.launch_job(query_cone)\n",
        "job"
      ],
      "metadata": {
        "colab": {
          "base_uri": "https://localhost:8080/"
        },
        "id": "a_07s_D_O_DQ",
        "outputId": "47a3e687-a76f-4836-d5a8-8b18e5e77f46"
      },
      "execution_count": null,
      "outputs": [
        {
          "output_type": "execute_result",
          "data": {
            "text/plain": [
              "<astroquery.utils.tap.model.job.Job at 0x7f21c42da410>"
            ]
          },
          "metadata": {},
          "execution_count": 18
        }
      ]
    },
    {
      "cell_type": "code",
      "source": [
        "results = job.get_results()\n",
        "results"
      ],
      "metadata": {
        "colab": {
          "base_uri": "https://localhost:8080/",
          "height": 287
        },
        "id": "ZR_NPxGwPg8x",
        "outputId": "7876f30e-7465-469b-dcf2-1e124ed1e0a5"
      },
      "execution_count": null,
      "outputs": [
        {
          "output_type": "execute_result",
          "data": {
            "text/plain": [
              "<Table length=10>\n",
              "     SOURCE_ID     \n",
              "       int64       \n",
              "-------------------\n",
              "3322773965056065536\n",
              "3322773758899157120\n",
              "3322774068134271104\n",
              "3322773930696320512\n",
              "3322774377374425728\n",
              "3322773724537891456\n",
              "3322773724537891328\n",
              "3322773930696321792\n",
              "3322773724537890944\n",
              "3322773930696322176"
            ],
            "text/html": [
              "<div><i>Table length=10</i>\n",
              "<table id=\"table139782565854032\" class=\"table-striped table-bordered table-condensed\">\n",
              "<thead><tr><th>SOURCE_ID</th></tr></thead>\n",
              "<thead><tr><th>int64</th></tr></thead>\n",
              "<tr><td>3322773965056065536</td></tr>\n",
              "<tr><td>3322773758899157120</td></tr>\n",
              "<tr><td>3322774068134271104</td></tr>\n",
              "<tr><td>3322773930696320512</td></tr>\n",
              "<tr><td>3322774377374425728</td></tr>\n",
              "<tr><td>3322773724537891456</td></tr>\n",
              "<tr><td>3322773724537891328</td></tr>\n",
              "<tr><td>3322773930696321792</td></tr>\n",
              "<tr><td>3322773724537890944</td></tr>\n",
              "<tr><td>3322773930696322176</td></tr>\n",
              "</table></div>"
            ]
          },
          "metadata": {},
          "execution_count": 19
        }
      ]
    },
    {
      "cell_type": "markdown",
      "source": [
        "When you are debugging queries like this, you can use TOP to limit the size of the results, but then you still don't know how big the results will be.\n",
        "\n",
        "An alternative is to use COUNT, which asks for the number of rows that would be selected, but it does not return them.\n",
        "\n",
        "From the previous query, we will replace TOP 10 source_id with COUNT(source_id) and run the query again. How many stars has Gaia identified in the cone we searched?"
      ],
      "metadata": {
        "id": "lT4pbIUqPqro"
      }
    },
    {
      "cell_type": "code",
      "source": [
        "query_cone = \"\"\"SELECT\n",
        "count(source_id)\n",
        "FROM gaiadr2.gaia_source\n",
        "WHERE 1=CONTAINS(\n",
        "  POINT(ra, dec),\n",
        "  CIRCLE(88.8, 7.4, 0.08333333))\n",
        "\"\"\""
      ],
      "metadata": {
        "id": "f778P-AjPmcB"
      },
      "execution_count": null,
      "outputs": []
    },
    {
      "cell_type": "code",
      "source": [
        "job2 = Gaia.launch_job(query_cone)\n",
        "job2"
      ],
      "metadata": {
        "colab": {
          "base_uri": "https://localhost:8080/"
        },
        "id": "5RLS9NJ7QELI",
        "outputId": "a7a55942-03eb-4b09-a644-0567c2f829e7"
      },
      "execution_count": null,
      "outputs": [
        {
          "output_type": "execute_result",
          "data": {
            "text/plain": [
              "<astroquery.utils.tap.model.job.Job at 0x7f21c42dac80>"
            ]
          },
          "metadata": {},
          "execution_count": 21
        }
      ]
    },
    {
      "cell_type": "code",
      "source": [
        "results2 = job2.get_results()\n",
        "results2"
      ],
      "metadata": {
        "colab": {
          "base_uri": "https://localhost:8080/",
          "height": 99
        },
        "id": "MjEAXOjKQH54",
        "outputId": "3ad8be6e-27fe-4b5a-a53f-625120ef8b9e"
      },
      "execution_count": null,
      "outputs": [
        {
          "output_type": "execute_result",
          "data": {
            "text/plain": [
              "<Table length=1>\n",
              "COUNT\n",
              "int64\n",
              "-----\n",
              "  594"
            ],
            "text/html": [
              "<div><i>Table length=1</i>\n",
              "<table id=\"table139783065414400\" class=\"table-striped table-bordered table-condensed\">\n",
              "<thead><tr><th>COUNT</th></tr></thead>\n",
              "<thead><tr><th>int64</th></tr></thead>\n",
              "<tr><td>594</td></tr>\n",
              "</table></div>"
            ]
          },
          "metadata": {},
          "execution_count": 22
        }
      ]
    },
    {
      "cell_type": "markdown",
      "source": [
        "## Getting GD-1 Data\n",
        "From the Price-Whelan and Bonaca paper, we will try to reproduce Figure 1, which includes this representation of stars likely to belong to GD-1.\n",
        "\n",
        "(GD-1 is a stellar stream and is located in the halo of the Milky Way, far from the galactic disk. It stretches across a large portion of the sky, making it one of the most well-known and studied stellar streams in the Milky Way.)"
      ],
      "metadata": {
        "id": "DrS3ckpGVnkJ"
      }
    },
    {
      "cell_type": "markdown",
      "source": [
        "![Description of image](https://raw.githubusercontent.com/datacarpentry/astronomy-python/gh-pages/fig/gd1-4.png)"
      ],
      "metadata": {
        "id": "SB7_ecQLWklh"
      }
    },
    {
      "cell_type": "markdown",
      "source": [
        "Transforming coordinates\n",
        "Astropy provides a SkyCoord object that represents sky coordinates relative to a specified frame.\n",
        "\n",
        "The following example creates a SkyCoord object that represents the approximate coordinates of Betelgeuse (alf Ori) in the ICRS frame.\n",
        "\n",
        "ICRS is the \"International Celestial Reference System\", adopted in 1997 by the International Astronomical Union."
      ],
      "metadata": {
        "id": "gTDjrs3WYdIJ"
      }
    },
    {
      "cell_type": "code",
      "source": [
        "from astropy.coordinates import SkyCoord\n",
        "\n",
        "ra = 88.8 * u.degree\n",
        "dec = 7.4 * u.degree\n",
        "coord_icrs = SkyCoord(ra=ra, dec=dec, frame='icrs')\n",
        "\n",
        "coord_icrs"
      ],
      "metadata": {
        "id": "cW-GpL5aVjIi",
        "colab": {
          "base_uri": "https://localhost:8080/"
        },
        "outputId": "536bfb4a-f3c3-4fb5-cd0b-02d7a4fe4fc6"
      },
      "execution_count": 23,
      "outputs": [
        {
          "output_type": "execute_result",
          "data": {
            "text/plain": [
              "<SkyCoord (ICRS): (ra, dec) in deg\n",
              "    (88.8, 7.4)>"
            ]
          },
          "metadata": {},
          "execution_count": 23
        }
      ]
    },
    {
      "cell_type": "code",
      "source": [
        "#SkyCoord provides a function that transforms to other frames. For example, we can transform coords_icrs to Galactic coordinates like this:\n",
        "coord_galactic = coord_icrs.transform_to('galactic')\n",
        "coord_galactic"
      ],
      "metadata": {
        "colab": {
          "base_uri": "https://localhost:8080/"
        },
        "id": "igRRofbhYhVR",
        "outputId": "ba8705a1-747f-4c52-b9be-cdf74e47fac2"
      },
      "execution_count": 24,
      "outputs": [
        {
          "output_type": "execute_result",
          "data": {
            "text/plain": [
              "<SkyCoord (Galactic): (l, b) in deg\n",
              "    (199.79693102, -8.95591653)>"
            ]
          },
          "metadata": {},
          "execution_count": 24
        }
      ]
    },
    {
      "cell_type": "markdown",
      "source": [
        "Notice that in the Galactic frame, the coordinates are called l and b, not ra and dec.\n",
        "\n",
        "To transform to and from GD-1 coordinates, we'll use a frame defined by Gala, which is an Astropy-affiliated library that provides tools for galactic dynamics.\n",
        "\n",
        "Gala provides GD1Koposov10, which is \"a Heliocentric spherical coordinate system defined by the orbit of the GD-1 stream\"."
      ],
      "metadata": {
        "id": "__ETJnnIYrNg"
      }
    },
    {
      "cell_type": "code",
      "source": [
        "!python -m pip install gala"
      ],
      "metadata": {
        "colab": {
          "base_uri": "https://localhost:8080/"
        },
        "id": "AHmhzEXZZTaA",
        "outputId": "7ee4b9ed-5320-4bf4-b548-22625fed6117"
      },
      "execution_count": 28,
      "outputs": [
        {
          "output_type": "stream",
          "name": "stdout",
          "text": [
            "Collecting gala\n",
            "  Downloading gala-1.9.1-cp310-cp310-manylinux_2_28_x86_64.whl.metadata (6.9 kB)\n",
            "Requirement already satisfied: numpy>=1.24.4 in /usr/local/lib/python3.10/dist-packages (from gala) (1.26.4)\n",
            "Requirement already satisfied: scipy>=1.8 in /usr/local/lib/python3.10/dist-packages (from gala) (1.13.1)\n",
            "Requirement already satisfied: astropy>=5.0 in /usr/local/lib/python3.10/dist-packages (from gala) (6.1.7)\n",
            "Requirement already satisfied: pyyaml in /usr/local/lib/python3.10/dist-packages (from gala) (6.0.2)\n",
            "Requirement already satisfied: cython>=0.29 in /usr/local/lib/python3.10/dist-packages (from gala) (3.0.11)\n",
            "Requirement already satisfied: pyerfa>=2.0.1.1 in /usr/local/lib/python3.10/dist-packages (from astropy>=5.0->gala) (2.0.1.5)\n",
            "Requirement already satisfied: astropy-iers-data>=0.2024.10.28.0.34.7 in /usr/local/lib/python3.10/dist-packages (from astropy>=5.0->gala) (0.2024.12.16.0.35.48)\n",
            "Requirement already satisfied: packaging>=19.0 in /usr/local/lib/python3.10/dist-packages (from astropy>=5.0->gala) (24.2)\n",
            "Downloading gala-1.9.1-cp310-cp310-manylinux_2_28_x86_64.whl (14.2 MB)\n",
            "\u001b[2K   \u001b[90m━━━━━━━━━━━━━━━━━━━━━━━━━━━━━━━━━━━━━━━━\u001b[0m \u001b[32m14.2/14.2 MB\u001b[0m \u001b[31m64.8 MB/s\u001b[0m eta \u001b[36m0:00:00\u001b[0m\n",
            "\u001b[?25hInstalling collected packages: gala\n",
            "Successfully installed gala-1.9.1\n"
          ]
        }
      ]
    },
    {
      "cell_type": "code",
      "source": [
        "from gala.coordinates import GD1Koposov10\n",
        "\n",
        "gd1_frame = GD1Koposov10()\n",
        "gd1_frame"
      ],
      "metadata": {
        "colab": {
          "base_uri": "https://localhost:8080/"
        },
        "id": "u-rz4v7zYuiY",
        "outputId": "0cf8a123-5309-4a09-879a-1ce3f45d8cbc"
      },
      "execution_count": 30,
      "outputs": [
        {
          "output_type": "execute_result",
          "data": {
            "text/plain": [
              "<GD1Koposov10 Frame>"
            ]
          },
          "metadata": {},
          "execution_count": 30
        }
      ]
    },
    {
      "cell_type": "code",
      "source": [
        "# We can use it to find the coordinates of Betelgeuse in the GD-1 frame, like this:\n",
        "coord_gd1 = coord_icrs.transform_to(gd1_frame)\n",
        "coord_gd1"
      ],
      "metadata": {
        "colab": {
          "base_uri": "https://localhost:8080/"
        },
        "id": "8uMrf6vaYu2R",
        "outputId": "39fbd9dd-793d-461e-af2e-ce0abfae6dac"
      },
      "execution_count": 31,
      "outputs": [
        {
          "output_type": "execute_result",
          "data": {
            "text/plain": [
              "<SkyCoord (GD1Koposov10): (phi1, phi2) in deg\n",
              "    (-94.97222038, 34.5813813)>"
            ]
          },
          "metadata": {},
          "execution_count": 31
        }
      ]
    },
    {
      "cell_type": "markdown",
      "source": [
        "The coordinates are called phi1 and phi2. These are the coordinates shown in the figure from the paper, above."
      ],
      "metadata": {
        "id": "QLieRjksZlnp"
      }
    },
    {
      "cell_type": "markdown",
      "source": [
        "Let's find the location of GD-1 in ICRS coordinates.\n",
        "\n",
        "Create a SkyCoord object at 0°, 0° in the GD-1 frame.\n",
        "\n",
        "Transform it to the ICRS frame.\n",
        "\n",
        "Because ICRS is built into Astropy, you can specify it by name, icrs (as we did with galactic)."
      ],
      "metadata": {
        "id": "J_ayjO_cZs_i"
      }
    },
    {
      "cell_type": "code",
      "source": [
        "from astropy.coordinates import SkyCoord\n",
        "from astropy import units as u\n",
        "\n",
        "# Step 1: Create a SkyCoord object at 0°, 0° in ICRS frame (RA=0, Dec=0)\n",
        "ra = 0.0 * u.degree\n",
        "dec = 0.0 * u.degree\n",
        "coord_icrs2 = SkyCoord(ra=ra, dec=dec, frame='icrs')\n",
        "\n",
        "# Step 2: Print the ICRS coordinates\n",
        "print(coord_icrs2)"
      ],
      "metadata": {
        "colab": {
          "base_uri": "https://localhost:8080/"
        },
        "id": "FMq6vsI8Zr3J",
        "outputId": "e1e80c41-e8b1-43cc-a411-c1f76f8a6c53"
      },
      "execution_count": 39,
      "outputs": [
        {
          "output_type": "stream",
          "name": "stdout",
          "text": [
            "<SkyCoord (ICRS): (ra, dec) in deg\n",
            "    (0., 0.)>\n"
          ]
        }
      ]
    },
    {
      "cell_type": "code",
      "source": [
        "# Step 3: Transform the coordinates from ICRS to GD-1 (if GD-1 frame is predefined)\n",
        "# Assuming GD-1 frame is defined, you would do:\n",
        "coord_gd2 = coord_icrs2.transform_to(gd1_frame)\n",
        "\n",
        "# Step 4: Print the GD-1 coordinates\n",
        "print(coord_gd2)"
      ],
      "metadata": {
        "colab": {
          "base_uri": "https://localhost:8080/"
        },
        "id": "98lyOI7di5NS",
        "outputId": "53a3cee4-3149-4bc6-c356-e8001c01d372"
      },
      "execution_count": 40,
      "outputs": [
        {
          "output_type": "stream",
          "name": "stdout",
          "text": [
            "<SkyCoord (GD1Koposov10): (phi1, phi2) in deg\n",
            "    (133.07549757, 45.62498003)>\n"
          ]
        }
      ]
    },
    {
      "cell_type": "markdown",
      "source": [
        "## Selecting a rectangle\n",
        "Now we'll use these coordinate transformations to define a rectangle in the GD-1 frame and transform it to ICRS.\n",
        "\n",
        "The following variables define the boundaries of the rectangle in ϕ1 and ϕ2"
      ],
      "metadata": {
        "id": "qmmYmp-Vjnah"
      }
    },
    {
      "cell_type": "code",
      "source": [
        "phi1_min = -55 * u.degree\n",
        "phi1_max = -45 * u.degree\n",
        "phi2_min = -8 * u.degree\n",
        "phi2_max = 4 * u.degree"
      ],
      "metadata": {
        "id": "RAgUUS5sj0J7"
      },
      "execution_count": 41,
      "outputs": []
    },
    {
      "cell_type": "code",
      "source": [
        "# To create a rectangle, we'll use the following function, which takes the lower and upper bounds as parameters.\n",
        "def make_rectangle(x1, x2, y1, y2):\n",
        "    \"\"\"Return the corners of a rectangle.\"\"\"\n",
        "    xs = [x1, x1, x2, x2, x1]\n",
        "    ys = [y1, y2, y2, y1, y1]\n",
        "    return xs, ys"
      ],
      "metadata": {
        "id": "SqMeSGE6j2MT"
      },
      "execution_count": 42,
      "outputs": []
    },
    {
      "cell_type": "code",
      "source": [
        "# The return value is a tuple containing a list of coordinates in phi1 followed by a list of coordinates in phi2.\n",
        "\n",
        "phi1_rect, phi2_rect = make_rectangle(\n",
        "    phi1_min, phi1_max, phi2_min, phi2_max) #phi1_rect and phi2_rect contains the coordinates of the corners of a rectangle in the GD-1 frame."
      ],
      "metadata": {
        "id": "cFSSLRHJj2V0"
      },
      "execution_count": 43,
      "outputs": []
    },
    {
      "cell_type": "code",
      "source": [
        "# In order to use them in a Gaia query, we have to convert them to ICRS. First we'll put them into a SkyCoord object.\n",
        "corners = SkyCoord(phi1=phi1_rect, phi2=phi2_rect, frame=gd1_frame)\n",
        "corners"
      ],
      "metadata": {
        "colab": {
          "base_uri": "https://localhost:8080/"
        },
        "id": "cFzRyKOnkD_S",
        "outputId": "8ef11050-d104-46e1-f6d6-7e9889076c0b"
      },
      "execution_count": 44,
      "outputs": [
        {
          "output_type": "execute_result",
          "data": {
            "text/plain": [
              "<SkyCoord (GD1Koposov10): (phi1, phi2) in deg\n",
              "    [(-55., -8.), (-55.,  4.), (-45.,  4.), (-45., -8.), (-55., -8.)]>"
            ]
          },
          "metadata": {},
          "execution_count": 44
        }
      ]
    },
    {
      "cell_type": "code",
      "source": [
        "# Now we can use transform_to to convert to ICRS coordinates.\n",
        "corners_icrs = corners.transform_to('icrs')\n",
        "corners_icrs"
      ],
      "metadata": {
        "colab": {
          "base_uri": "https://localhost:8080/"
        },
        "id": "lfD-tPGOkIAS",
        "outputId": "ae912898-14cc-4e5d-d62c-0b85a50fecb5"
      },
      "execution_count": 45,
      "outputs": [
        {
          "output_type": "execute_result",
          "data": {
            "text/plain": [
              "<SkyCoord (ICRS): (ra, dec) in deg\n",
              "    [(146.27533314, 19.26190982), (135.42163944, 25.87738723),\n",
              "     (141.60264825, 34.3048303 ), (152.81671045, 27.13611254),\n",
              "     (146.27533314, 19.26190982)]>"
            ]
          },
          "metadata": {},
          "execution_count": 45
        }
      ]
    },
    {
      "cell_type": "markdown",
      "source": [
        "## Defining a polygon\n",
        "In order to use this polygon as part of an ADQL query, we have to convert it to a string with a comma-separated list of coordinates, as in this example:\n",
        "\n",
        "\"\"\"\n",
        "POLYGON(143.65, 20.98,\n",
        "        134.46, 26.39,\n",
        "        140.58, 34.85,\n",
        "        150.16, 29.01)\n",
        "\"\"\"\n",
        "SkyCoord provides to_string, which produces a list of strings."
      ],
      "metadata": {
        "id": "MBQRYWZ3kXZi"
      }
    },
    {
      "cell_type": "code",
      "source": [
        "t = corners_icrs.to_string()\n",
        "t"
      ],
      "metadata": {
        "colab": {
          "base_uri": "https://localhost:8080/"
        },
        "id": "pkg6NuzKkMMz",
        "outputId": "98288beb-011e-43a6-a36b-626d7b59f295"
      },
      "execution_count": 46,
      "outputs": [
        {
          "output_type": "execute_result",
          "data": {
            "text/plain": [
              "['146.275 19.2619',\n",
              " '135.422 25.8774',\n",
              " '141.603 34.3048',\n",
              " '152.817 27.1361',\n",
              " '146.275 19.2619']"
            ]
          },
          "metadata": {},
          "execution_count": 46
        }
      ]
    },
    {
      "cell_type": "code",
      "source": [
        "# We can use the Python string function join to join t into a single string (with spaces between the pairs):\n",
        "s = ' '.join(t)\n",
        "s\n"
      ],
      "metadata": {
        "colab": {
          "base_uri": "https://localhost:8080/",
          "height": 36
        },
        "id": "T8rtzUgukfRi",
        "outputId": "b5772b60-e3e2-4082-9ea2-8e7c95c95575"
      },
      "execution_count": 47,
      "outputs": [
        {
          "output_type": "execute_result",
          "data": {
            "text/plain": [
              "'146.275 19.2619 135.422 25.8774 141.603 34.3048 152.817 27.1361 146.275 19.2619'"
            ],
            "application/vnd.google.colaboratory.intrinsic+json": {
              "type": "string"
            }
          },
          "metadata": {},
          "execution_count": 47
        }
      ]
    },
    {
      "cell_type": "code",
      "source": [
        "# That's almost what we need, but we have to replace the spaces with commas\n",
        "s.replace(' ', ', ')"
      ],
      "metadata": {
        "colab": {
          "base_uri": "https://localhost:8080/",
          "height": 36
        },
        "id": "AP6JxKSmkl5a",
        "outputId": "9b019ef2-bce1-4256-f5fb-6e16d9aa75cd"
      },
      "execution_count": 48,
      "outputs": [
        {
          "output_type": "execute_result",
          "data": {
            "text/plain": [
              "'146.275, 19.2619, 135.422, 25.8774, 141.603, 34.3048, 152.817, 27.1361, 146.275, 19.2619'"
            ],
            "application/vnd.google.colaboratory.intrinsic+json": {
              "type": "string"
            }
          },
          "metadata": {},
          "execution_count": 48
        }
      ]
    },
    {
      "cell_type": "code",
      "source": [
        "# Let's create a fnction to combines these steps.\n",
        "def skycoord_to_string(skycoord):\n",
        "    \"\"\"Convert SkyCoord to string.\"\"\"\n",
        "    t = skycoord.to_string()\n",
        "    s = ' '.join(t)\n",
        "    return s.replace(' ', ', ')"
      ],
      "metadata": {
        "id": "sXNeb75Kkscy"
      },
      "execution_count": 49,
      "outputs": []
    },
    {
      "cell_type": "code",
      "source": [
        "point_list = skycoord_to_string(corners_icrs)\n",
        "point_list"
      ],
      "metadata": {
        "colab": {
          "base_uri": "https://localhost:8080/",
          "height": 36
        },
        "id": "iSsLT2LEk1fr",
        "outputId": "5e533195-2324-4ea1-d381-dd15156cecd1"
      },
      "execution_count": 50,
      "outputs": [
        {
          "output_type": "execute_result",
          "data": {
            "text/plain": [
              "'146.275, 19.2619, 135.422, 25.8774, 141.603, 34.3048, 152.817, 27.1361, 146.275, 19.2619'"
            ],
            "application/vnd.google.colaboratory.intrinsic+json": {
              "type": "string"
            }
          },
          "metadata": {},
          "execution_count": 50
        }
      ]
    },
    {
      "cell_type": "markdown",
      "source": [
        "## Assembling the query\n",
        "Now we're ready to assemble the query. We need columns again (as we saw in the previous lesson)."
      ],
      "metadata": {
        "id": "vLBGb2Znk8uD"
      }
    },
    {
      "cell_type": "code",
      "source": [
        "columns = 'source_id, ra, dec, pmra, pmdec, parallax'"
      ],
      "metadata": {
        "id": "FWLEnv0vk6wM"
      },
      "execution_count": 51,
      "outputs": []
    },
    {
      "cell_type": "code",
      "source": [
        "query3_base = \"\"\"SELECT\n",
        "TOP 10\n",
        "{columns}\n",
        "FROM gaiadr2.gaia_source\n",
        "WHERE parallax < 1\n",
        "  AND bp_rp BETWEEN -0.75 AND 2\n",
        "\"\"\""
      ],
      "metadata": {
        "id": "1XXuo_6Ik61X"
      },
      "execution_count": 52,
      "outputs": []
    },
    {
      "cell_type": "code",
      "source": [
        "# we'll add a WHERE clause to select stars in the polygon we defined.\n",
        "\n",
        "query4_base = \"\"\"SELECT\n",
        "TOP 10\n",
        "{columns}\n",
        "FROM gaiadr2.gaia_source\n",
        "WHERE parallax < 1\n",
        "  AND bp_rp BETWEEN -0.75 AND 2\n",
        "  AND 1 = CONTAINS(POINT(ra, dec),\n",
        "                   POLYGON({point_list}))\n",
        "\"\"\""
      ],
      "metadata": {
        "id": "U0ARvdf4lGXj"
      },
      "execution_count": 53,
      "outputs": []
    },
    {
      "cell_type": "code",
      "source": [
        "#The query base contains format specifiers for columns and point_list.\n",
        "#We'll use format to fill in these values.\n",
        "\n",
        "query4 = query4_base.format(columns=columns,\n",
        "                          point_list=point_list)\n",
        "print(query4)"
      ],
      "metadata": {
        "colab": {
          "base_uri": "https://localhost:8080/"
        },
        "id": "EbP8h2E1lMf7",
        "outputId": "a6cfffa5-cdf5-49f7-e16f-eec9deaa7434"
      },
      "execution_count": 54,
      "outputs": [
        {
          "output_type": "stream",
          "name": "stdout",
          "text": [
            "SELECT\n",
            "TOP 10\n",
            "source_id, ra, dec, pmra, pmdec, parallax\n",
            "FROM gaiadr2.gaia_source\n",
            "WHERE parallax < 1\n",
            "  AND bp_rp BETWEEN -0.75 AND 2 \n",
            "  AND 1 = CONTAINS(POINT(ra, dec), \n",
            "                   POLYGON(146.275, 19.2619, 135.422, 25.8774, 141.603, 34.3048, 152.817, 27.1361, 146.275, 19.2619))\n",
            "\n"
          ]
        }
      ]
    },
    {
      "cell_type": "code",
      "source": [
        "# As always, we should take a minute to proof-read the query before we launch it.\n",
        "job = Gaia.launch_job_async(query4)\n",
        "print(job)"
      ],
      "metadata": {
        "colab": {
          "base_uri": "https://localhost:8080/"
        },
        "id": "dbEUWdqvlU4d",
        "outputId": "8f9da4dd-f84d-4635-b0fb-d1a0b984b311"
      },
      "execution_count": 55,
      "outputs": [
        {
          "output_type": "stream",
          "name": "stderr",
          "text": [
            "INFO:astroquery:Query finished.\n"
          ]
        },
        {
          "output_type": "stream",
          "name": "stdout",
          "text": [
            "INFO: Query finished. [astroquery.utils.tap.core]\n",
            "<Table length=10>\n",
            "   name    dtype    unit                              description                            \n",
            "--------- ------- -------- ------------------------------------------------------------------\n",
            "SOURCE_ID   int64          Unique source identifier (unique within a particular Data Release)\n",
            "       ra float64      deg                                                    Right ascension\n",
            "      dec float64      deg                                                        Declination\n",
            "     pmra float64 mas / yr                         Proper motion in right ascension direction\n",
            "    pmdec float64 mas / yr                             Proper motion in declination direction\n",
            " parallax float64      mas                                                           Parallax\n",
            "Jobid: 1734941698595O\n",
            "Phase: COMPLETED\n",
            "Owner: None\n",
            "Output file: async_20241223081458.vot\n",
            "Results: None\n"
          ]
        }
      ]
    },
    {
      "cell_type": "code",
      "source": [
        "results = job.get_results()\n",
        "results"
      ],
      "metadata": {
        "colab": {
          "base_uri": "https://localhost:8080/",
          "height": 308
        },
        "id": "9Bi5GqGOlZni",
        "outputId": "cfc0ecaf-1598-4a2f-8130-8f10ee2372b7"
      },
      "execution_count": 56,
      "outputs": [
        {
          "output_type": "execute_result",
          "data": {
            "text/plain": [
              "<Table length=10>\n",
              "    SOURCE_ID              ra         ...        pmdec              parallax      \n",
              "                          deg         ...       mas / yr              mas         \n",
              "      int64             float64       ...       float64             float64       \n",
              "------------------ ------------------ ... ------------------- --------------------\n",
              "637987125186749568 142.48301935991023 ...   2.941813096629439  -0.2573448962333354\n",
              "638285195917112960 142.25452941346344 ... -12.165984395577347   0.4227283465319491\n",
              "638073505568978688 142.64528557468074 ...  -7.950659620550862  0.10363972229362585\n",
              "638086386175786752 142.57739430926034 ...  -2.584105480335548  -0.8573270355079308\n",
              "638049655615392384 142.58913564478618 ...  -4.941079187010136    0.099624729200593\n",
              "638267565075964032 141.81762228999614 ...  1.8838892877285924 -0.07271215219283075\n",
              "638028902333511168 143.18339801317677 ... -21.391145547787154  0.28736226011479443\n",
              "638085767700610432  142.9347319464589 ... -12.486419770278376  -0.9896728393047383\n",
              "638299863230178304 142.26769745823267 ...  1.0537342990941316  0.16396383783029062\n",
              "637973067758974208 142.89551292869012 ...  -44.41164172204947   0.7647361167279948"
            ],
            "text/html": [
              "<div><i>Table length=10</i>\n",
              "<table id=\"table139782563212272\" class=\"table-striped table-bordered table-condensed\">\n",
              "<thead><tr><th>SOURCE_ID</th><th>ra</th><th>dec</th><th>pmra</th><th>pmdec</th><th>parallax</th></tr></thead>\n",
              "<thead><tr><th></th><th>deg</th><th>deg</th><th>mas / yr</th><th>mas / yr</th><th>mas</th></tr></thead>\n",
              "<thead><tr><th>int64</th><th>float64</th><th>float64</th><th>float64</th><th>float64</th><th>float64</th></tr></thead>\n",
              "<tr><td>637987125186749568</td><td>142.48301935991023</td><td>21.75771616932985</td><td>-2.5168384683875766</td><td>2.941813096629439</td><td>-0.2573448962333354</td></tr>\n",
              "<tr><td>638285195917112960</td><td>142.25452941346344</td><td>22.476168171141378</td><td>2.6627020143457996</td><td>-12.165984395577347</td><td>0.4227283465319491</td></tr>\n",
              "<tr><td>638073505568978688</td><td>142.64528557468074</td><td>22.16693224953078</td><td>18.30674739454163</td><td>-7.950659620550862</td><td>0.10363972229362585</td></tr>\n",
              "<tr><td>638086386175786752</td><td>142.57739430926034</td><td>22.22791951401365</td><td>0.9877856720147953</td><td>-2.584105480335548</td><td>-0.8573270355079308</td></tr>\n",
              "<tr><td>638049655615392384</td><td>142.58913564478618</td><td>22.110783166677418</td><td>0.24443878227817095</td><td>-4.941079187010136</td><td>0.099624729200593</td></tr>\n",
              "<tr><td>638267565075964032</td><td>141.81762228999614</td><td>22.375696125322275</td><td>-3.413174589660796</td><td>1.8838892877285924</td><td>-0.07271215219283075</td></tr>\n",
              "<tr><td>638028902333511168</td><td>143.18339801317677</td><td>22.2512465812369</td><td>7.848511762712128</td><td>-21.391145547787154</td><td>0.28736226011479443</td></tr>\n",
              "<tr><td>638085767700610432</td><td>142.9347319464589</td><td>22.46244080823965</td><td>-3.6585960944321476</td><td>-12.486419770278376</td><td>-0.9896728393047383</td></tr>\n",
              "<tr><td>638299863230178304</td><td>142.26769745823267</td><td>22.640183776884836</td><td>-1.8168370892218297</td><td>1.0537342990941316</td><td>0.16396383783029062</td></tr>\n",
              "<tr><td>637973067758974208</td><td>142.89551292869012</td><td>21.612824100339875</td><td>-8.645166256559063</td><td>-44.41164172204947</td><td>0.7647361167279948</td></tr>\n",
              "</table></div>"
            ]
          },
          "metadata": {},
          "execution_count": 56
        }
      ]
    },
    {
      "cell_type": "code",
      "source": [
        "#Finally, we can remove TOP 10 run the query again.\n",
        "#The result is bigger than our previous queries, so it will take a little longer.\n",
        "\n",
        "query5_base = \"\"\"SELECT\n",
        "{columns}\n",
        "FROM gaiadr2.gaia_source\n",
        "WHERE parallax < 1\n",
        "  AND bp_rp BETWEEN -0.75 AND 2\n",
        "  AND 1 = CONTAINS(POINT(ra, dec),\n",
        "                   POLYGON({point_list}))\n",
        "\"\"\""
      ],
      "metadata": {
        "id": "G6YCuNE1lfaK"
      },
      "execution_count": 57,
      "outputs": []
    },
    {
      "cell_type": "code",
      "source": [
        "query5 = query5_base.format(columns=columns,\n",
        "                          point_list=point_list)\n",
        "print(query5)"
      ],
      "metadata": {
        "colab": {
          "base_uri": "https://localhost:8080/"
        },
        "id": "hNaR1oEvllWb",
        "outputId": "9cf21ad2-a570-4ca8-99f8-65cfa76a20ff"
      },
      "execution_count": 58,
      "outputs": [
        {
          "output_type": "stream",
          "name": "stdout",
          "text": [
            "SELECT\n",
            "source_id, ra, dec, pmra, pmdec, parallax\n",
            "FROM gaiadr2.gaia_source\n",
            "WHERE parallax < 1\n",
            "  AND bp_rp BETWEEN -0.75 AND 2 \n",
            "  AND 1 = CONTAINS(POINT(ra, dec), \n",
            "                   POLYGON(146.275, 19.2619, 135.422, 25.8774, 141.603, 34.3048, 152.817, 27.1361, 146.275, 19.2619))\n",
            "\n"
          ]
        }
      ]
    },
    {
      "cell_type": "code",
      "source": [
        "job = Gaia.launch_job_async(query5)\n",
        "print(job)"
      ],
      "metadata": {
        "colab": {
          "base_uri": "https://localhost:8080/"
        },
        "id": "XYkU0KITlmV6",
        "outputId": "ac1df99c-091b-497e-9665-5c1e680f0461"
      },
      "execution_count": 59,
      "outputs": [
        {
          "output_type": "stream",
          "name": "stderr",
          "text": [
            "INFO:astroquery:Query finished.\n"
          ]
        },
        {
          "output_type": "stream",
          "name": "stdout",
          "text": [
            "INFO: Query finished. [astroquery.utils.tap.core]\n",
            "<Table length=140339>\n",
            "   name    dtype    unit                              description                            \n",
            "--------- ------- -------- ------------------------------------------------------------------\n",
            "SOURCE_ID   int64          Unique source identifier (unique within a particular Data Release)\n",
            "       ra float64      deg                                                    Right ascension\n",
            "      dec float64      deg                                                        Declination\n",
            "     pmra float64 mas / yr                         Proper motion in right ascension direction\n",
            "    pmdec float64 mas / yr                             Proper motion in declination direction\n",
            " parallax float64      mas                                                           Parallax\n",
            "Jobid: 1734941766823O\n",
            "Phase: COMPLETED\n",
            "Owner: None\n",
            "Output file: async_20241223081606.vot\n",
            "Results: None\n"
          ]
        }
      ]
    },
    {
      "cell_type": "code",
      "source": [
        "results = job.get_results()\n",
        "len(results)"
      ],
      "metadata": {
        "colab": {
          "base_uri": "https://localhost:8080/"
        },
        "id": "39HrxTJklmhT",
        "outputId": "c9a382e4-e454-46d7-fd8d-3e7595588c40"
      },
      "execution_count": 60,
      "outputs": [
        {
          "output_type": "execute_result",
          "data": {
            "text/plain": [
              "140339"
            ]
          },
          "metadata": {},
          "execution_count": 60
        }
      ]
    },
    {
      "cell_type": "markdown",
      "source": [
        "*There are more than 100,000 stars in this polygon, but that's a manageable size to work with.*"
      ],
      "metadata": {
        "id": "cezKI_wjl0Ow"
      }
    },
    {
      "cell_type": "markdown",
      "source": [
        "## Saving results\n",
        "This is the set of stars we'll work with in the next step. But since we have a substantial dataset now, this is a good time to save it.\n",
        "\n",
        "Storing the data in a file means we can shut down this notebook and pick up where we left off without running the previous query again.\n",
        "\n",
        "Astropy Table objects provide write, which writes the table to disk."
      ],
      "metadata": {
        "id": "fy6thzggl5R9"
      }
    },
    {
      "cell_type": "code",
      "source": [
        "filename = 'gd1_results.fits'\n",
        "results.write(filename, overwrite=True)"
      ],
      "metadata": {
        "id": "zZzRxnIYl2vs"
      },
      "execution_count": 66,
      "outputs": []
    },
    {
      "cell_type": "code",
      "source": [
        "from os.path import getsize\n",
        "\n",
        "MB = 1024 * 1024\n",
        "getsize(filename) / MB"
      ],
      "metadata": {
        "colab": {
          "base_uri": "https://localhost:8080/"
        },
        "id": "QCwWPk0TmShE",
        "outputId": "72bd8fd4-c762-4290-edc8-06d603879800"
      },
      "execution_count": 63,
      "outputs": [
        {
          "output_type": "execute_result",
          "data": {
            "text/plain": [
              "6.4324951171875"
            ]
          },
          "metadata": {},
          "execution_count": 63
        }
      ]
    },
    {
      "cell_type": "code",
      "source": [
        "!pip install ipyaladin ipywidgets"
      ],
      "metadata": {
        "colab": {
          "base_uri": "https://localhost:8080/"
        },
        "id": "8HW3th9dmwu0",
        "outputId": "43f2887c-727b-49d0-9026-73b6f0035b78"
      },
      "execution_count": 68,
      "outputs": [
        {
          "output_type": "stream",
          "name": "stdout",
          "text": [
            "Collecting ipyaladin\n",
            "  Downloading ipyaladin-0.5.2-py3-none-any.whl.metadata (7.0 kB)\n",
            "Requirement already satisfied: ipywidgets in /usr/local/lib/python3.10/dist-packages (7.7.1)\n",
            "Collecting anywidget (from ipyaladin)\n",
            "  Downloading anywidget-0.9.13-py3-none-any.whl.metadata (7.2 kB)\n",
            "Requirement already satisfied: astropy in /usr/local/lib/python3.10/dist-packages (from ipyaladin) (6.1.7)\n",
            "Requirement already satisfied: ipykernel>=4.5.1 in /usr/local/lib/python3.10/dist-packages (from ipywidgets) (5.5.6)\n",
            "Requirement already satisfied: ipython-genutils~=0.2.0 in /usr/local/lib/python3.10/dist-packages (from ipywidgets) (0.2.0)\n",
            "Requirement already satisfied: traitlets>=4.3.1 in /usr/local/lib/python3.10/dist-packages (from ipywidgets) (5.7.1)\n",
            "Requirement already satisfied: widgetsnbextension~=3.6.0 in /usr/local/lib/python3.10/dist-packages (from ipywidgets) (3.6.10)\n",
            "Requirement already satisfied: ipython>=4.0.0 in /usr/local/lib/python3.10/dist-packages (from ipywidgets) (7.34.0)\n",
            "Requirement already satisfied: jupyterlab-widgets>=1.0.0 in /usr/local/lib/python3.10/dist-packages (from ipywidgets) (3.0.13)\n",
            "Requirement already satisfied: jupyter-client in /usr/local/lib/python3.10/dist-packages (from ipykernel>=4.5.1->ipywidgets) (6.1.12)\n",
            "Requirement already satisfied: tornado>=4.2 in /usr/local/lib/python3.10/dist-packages (from ipykernel>=4.5.1->ipywidgets) (6.3.3)\n",
            "Requirement already satisfied: setuptools>=18.5 in /usr/local/lib/python3.10/dist-packages (from ipython>=4.0.0->ipywidgets) (75.1.0)\n",
            "Collecting jedi>=0.16 (from ipython>=4.0.0->ipywidgets)\n",
            "  Downloading jedi-0.19.2-py2.py3-none-any.whl.metadata (22 kB)\n",
            "Requirement already satisfied: decorator in /usr/local/lib/python3.10/dist-packages (from ipython>=4.0.0->ipywidgets) (4.4.2)\n",
            "Requirement already satisfied: pickleshare in /usr/local/lib/python3.10/dist-packages (from ipython>=4.0.0->ipywidgets) (0.7.5)\n",
            "Requirement already satisfied: prompt-toolkit!=3.0.0,!=3.0.1,<3.1.0,>=2.0.0 in /usr/local/lib/python3.10/dist-packages (from ipython>=4.0.0->ipywidgets) (3.0.48)\n",
            "Requirement already satisfied: pygments in /usr/local/lib/python3.10/dist-packages (from ipython>=4.0.0->ipywidgets) (2.18.0)\n",
            "Requirement already satisfied: backcall in /usr/local/lib/python3.10/dist-packages (from ipython>=4.0.0->ipywidgets) (0.2.0)\n",
            "Requirement already satisfied: matplotlib-inline in /usr/local/lib/python3.10/dist-packages (from ipython>=4.0.0->ipywidgets) (0.1.7)\n",
            "Requirement already satisfied: pexpect>4.3 in /usr/local/lib/python3.10/dist-packages (from ipython>=4.0.0->ipywidgets) (4.9.0)\n",
            "Requirement already satisfied: notebook>=4.4.1 in /usr/local/lib/python3.10/dist-packages (from widgetsnbextension~=3.6.0->ipywidgets) (6.5.5)\n",
            "Collecting psygnal>=0.8.1 (from anywidget->ipyaladin)\n",
            "  Downloading psygnal-0.11.1-cp310-cp310-manylinux_2_17_x86_64.manylinux2014_x86_64.whl.metadata (7.2 kB)\n",
            "Requirement already satisfied: typing-extensions>=4.2.0 in /usr/local/lib/python3.10/dist-packages (from anywidget->ipyaladin) (4.12.2)\n",
            "Requirement already satisfied: numpy>=1.23 in /usr/local/lib/python3.10/dist-packages (from astropy->ipyaladin) (1.26.4)\n",
            "Requirement already satisfied: pyerfa>=2.0.1.1 in /usr/local/lib/python3.10/dist-packages (from astropy->ipyaladin) (2.0.1.5)\n",
            "Requirement already satisfied: astropy-iers-data>=0.2024.10.28.0.34.7 in /usr/local/lib/python3.10/dist-packages (from astropy->ipyaladin) (0.2024.12.16.0.35.48)\n",
            "Requirement already satisfied: PyYAML>=3.13 in /usr/local/lib/python3.10/dist-packages (from astropy->ipyaladin) (6.0.2)\n",
            "Requirement already satisfied: packaging>=19.0 in /usr/local/lib/python3.10/dist-packages (from astropy->ipyaladin) (24.2)\n",
            "Requirement already satisfied: parso<0.9.0,>=0.8.4 in /usr/local/lib/python3.10/dist-packages (from jedi>=0.16->ipython>=4.0.0->ipywidgets) (0.8.4)\n",
            "Requirement already satisfied: jinja2 in /usr/local/lib/python3.10/dist-packages (from notebook>=4.4.1->widgetsnbextension~=3.6.0->ipywidgets) (3.1.4)\n",
            "Requirement already satisfied: pyzmq<25,>=17 in /usr/local/lib/python3.10/dist-packages (from notebook>=4.4.1->widgetsnbextension~=3.6.0->ipywidgets) (24.0.1)\n",
            "Requirement already satisfied: argon2-cffi in /usr/local/lib/python3.10/dist-packages (from notebook>=4.4.1->widgetsnbextension~=3.6.0->ipywidgets) (23.1.0)\n",
            "Requirement already satisfied: jupyter-core>=4.6.1 in /usr/local/lib/python3.10/dist-packages (from notebook>=4.4.1->widgetsnbextension~=3.6.0->ipywidgets) (5.7.2)\n",
            "Requirement already satisfied: nbformat in /usr/local/lib/python3.10/dist-packages (from notebook>=4.4.1->widgetsnbextension~=3.6.0->ipywidgets) (5.10.4)\n",
            "Requirement already satisfied: nbconvert>=5 in /usr/local/lib/python3.10/dist-packages (from notebook>=4.4.1->widgetsnbextension~=3.6.0->ipywidgets) (7.16.4)\n",
            "Requirement already satisfied: nest-asyncio>=1.5 in /usr/local/lib/python3.10/dist-packages (from notebook>=4.4.1->widgetsnbextension~=3.6.0->ipywidgets) (1.6.0)\n",
            "Requirement already satisfied: Send2Trash>=1.8.0 in /usr/local/lib/python3.10/dist-packages (from notebook>=4.4.1->widgetsnbextension~=3.6.0->ipywidgets) (1.8.3)\n",
            "Requirement already satisfied: terminado>=0.8.3 in /usr/local/lib/python3.10/dist-packages (from notebook>=4.4.1->widgetsnbextension~=3.6.0->ipywidgets) (0.18.1)\n",
            "Requirement already satisfied: prometheus-client in /usr/local/lib/python3.10/dist-packages (from notebook>=4.4.1->widgetsnbextension~=3.6.0->ipywidgets) (0.21.1)\n",
            "Requirement already satisfied: nbclassic>=0.4.7 in /usr/local/lib/python3.10/dist-packages (from notebook>=4.4.1->widgetsnbextension~=3.6.0->ipywidgets) (1.1.0)\n",
            "Requirement already satisfied: python-dateutil>=2.1 in /usr/local/lib/python3.10/dist-packages (from jupyter-client->ipykernel>=4.5.1->ipywidgets) (2.8.2)\n",
            "Requirement already satisfied: ptyprocess>=0.5 in /usr/local/lib/python3.10/dist-packages (from pexpect>4.3->ipython>=4.0.0->ipywidgets) (0.7.0)\n",
            "Requirement already satisfied: wcwidth in /usr/local/lib/python3.10/dist-packages (from prompt-toolkit!=3.0.0,!=3.0.1,<3.1.0,>=2.0.0->ipython>=4.0.0->ipywidgets) (0.2.13)\n",
            "Requirement already satisfied: platformdirs>=2.5 in /usr/local/lib/python3.10/dist-packages (from jupyter-core>=4.6.1->notebook>=4.4.1->widgetsnbextension~=3.6.0->ipywidgets) (4.3.6)\n",
            "Requirement already satisfied: notebook-shim>=0.2.3 in /usr/local/lib/python3.10/dist-packages (from nbclassic>=0.4.7->notebook>=4.4.1->widgetsnbextension~=3.6.0->ipywidgets) (0.2.4)\n",
            "Requirement already satisfied: beautifulsoup4 in /usr/local/lib/python3.10/dist-packages (from nbconvert>=5->notebook>=4.4.1->widgetsnbextension~=3.6.0->ipywidgets) (4.12.3)\n",
            "Requirement already satisfied: bleach!=5.0.0 in /usr/local/lib/python3.10/dist-packages (from nbconvert>=5->notebook>=4.4.1->widgetsnbextension~=3.6.0->ipywidgets) (6.2.0)\n",
            "Requirement already satisfied: defusedxml in /usr/local/lib/python3.10/dist-packages (from nbconvert>=5->notebook>=4.4.1->widgetsnbextension~=3.6.0->ipywidgets) (0.7.1)\n",
            "Requirement already satisfied: jupyterlab-pygments in /usr/local/lib/python3.10/dist-packages (from nbconvert>=5->notebook>=4.4.1->widgetsnbextension~=3.6.0->ipywidgets) (0.3.0)\n",
            "Requirement already satisfied: markupsafe>=2.0 in /usr/local/lib/python3.10/dist-packages (from nbconvert>=5->notebook>=4.4.1->widgetsnbextension~=3.6.0->ipywidgets) (3.0.2)\n",
            "Requirement already satisfied: mistune<4,>=2.0.3 in /usr/local/lib/python3.10/dist-packages (from nbconvert>=5->notebook>=4.4.1->widgetsnbextension~=3.6.0->ipywidgets) (3.0.2)\n",
            "Requirement already satisfied: nbclient>=0.5.0 in /usr/local/lib/python3.10/dist-packages (from nbconvert>=5->notebook>=4.4.1->widgetsnbextension~=3.6.0->ipywidgets) (0.10.1)\n",
            "Requirement already satisfied: pandocfilters>=1.4.1 in /usr/local/lib/python3.10/dist-packages (from nbconvert>=5->notebook>=4.4.1->widgetsnbextension~=3.6.0->ipywidgets) (1.5.1)\n",
            "Requirement already satisfied: tinycss2 in /usr/local/lib/python3.10/dist-packages (from nbconvert>=5->notebook>=4.4.1->widgetsnbextension~=3.6.0->ipywidgets) (1.4.0)\n",
            "Requirement already satisfied: fastjsonschema>=2.15 in /usr/local/lib/python3.10/dist-packages (from nbformat->notebook>=4.4.1->widgetsnbextension~=3.6.0->ipywidgets) (2.21.1)\n",
            "Requirement already satisfied: jsonschema>=2.6 in /usr/local/lib/python3.10/dist-packages (from nbformat->notebook>=4.4.1->widgetsnbextension~=3.6.0->ipywidgets) (4.23.0)\n",
            "Requirement already satisfied: six>=1.5 in /usr/local/lib/python3.10/dist-packages (from python-dateutil>=2.1->jupyter-client->ipykernel>=4.5.1->ipywidgets) (1.17.0)\n",
            "Requirement already satisfied: argon2-cffi-bindings in /usr/local/lib/python3.10/dist-packages (from argon2-cffi->notebook>=4.4.1->widgetsnbextension~=3.6.0->ipywidgets) (21.2.0)\n",
            "Requirement already satisfied: webencodings in /usr/local/lib/python3.10/dist-packages (from bleach!=5.0.0->nbconvert>=5->notebook>=4.4.1->widgetsnbextension~=3.6.0->ipywidgets) (0.5.1)\n",
            "Requirement already satisfied: attrs>=22.2.0 in /usr/local/lib/python3.10/dist-packages (from jsonschema>=2.6->nbformat->notebook>=4.4.1->widgetsnbextension~=3.6.0->ipywidgets) (24.3.0)\n",
            "Requirement already satisfied: jsonschema-specifications>=2023.03.6 in /usr/local/lib/python3.10/dist-packages (from jsonschema>=2.6->nbformat->notebook>=4.4.1->widgetsnbextension~=3.6.0->ipywidgets) (2024.10.1)\n",
            "Requirement already satisfied: referencing>=0.28.4 in /usr/local/lib/python3.10/dist-packages (from jsonschema>=2.6->nbformat->notebook>=4.4.1->widgetsnbextension~=3.6.0->ipywidgets) (0.35.1)\n",
            "Requirement already satisfied: rpds-py>=0.7.1 in /usr/local/lib/python3.10/dist-packages (from jsonschema>=2.6->nbformat->notebook>=4.4.1->widgetsnbextension~=3.6.0->ipywidgets) (0.22.3)\n",
            "Requirement already satisfied: jupyter-server<3,>=1.8 in /usr/local/lib/python3.10/dist-packages (from notebook-shim>=0.2.3->nbclassic>=0.4.7->notebook>=4.4.1->widgetsnbextension~=3.6.0->ipywidgets) (1.24.0)\n",
            "Requirement already satisfied: cffi>=1.0.1 in /usr/local/lib/python3.10/dist-packages (from argon2-cffi-bindings->argon2-cffi->notebook>=4.4.1->widgetsnbextension~=3.6.0->ipywidgets) (1.17.1)\n",
            "Requirement already satisfied: soupsieve>1.2 in /usr/local/lib/python3.10/dist-packages (from beautifulsoup4->nbconvert>=5->notebook>=4.4.1->widgetsnbextension~=3.6.0->ipywidgets) (2.6)\n",
            "Requirement already satisfied: pycparser in /usr/local/lib/python3.10/dist-packages (from cffi>=1.0.1->argon2-cffi-bindings->argon2-cffi->notebook>=4.4.1->widgetsnbextension~=3.6.0->ipywidgets) (2.22)\n",
            "Requirement already satisfied: anyio<4,>=3.1.0 in /usr/local/lib/python3.10/dist-packages (from jupyter-server<3,>=1.8->notebook-shim>=0.2.3->nbclassic>=0.4.7->notebook>=4.4.1->widgetsnbextension~=3.6.0->ipywidgets) (3.7.1)\n",
            "Requirement already satisfied: websocket-client in /usr/local/lib/python3.10/dist-packages (from jupyter-server<3,>=1.8->notebook-shim>=0.2.3->nbclassic>=0.4.7->notebook>=4.4.1->widgetsnbextension~=3.6.0->ipywidgets) (1.8.0)\n",
            "Requirement already satisfied: idna>=2.8 in /usr/local/lib/python3.10/dist-packages (from anyio<4,>=3.1.0->jupyter-server<3,>=1.8->notebook-shim>=0.2.3->nbclassic>=0.4.7->notebook>=4.4.1->widgetsnbextension~=3.6.0->ipywidgets) (3.10)\n",
            "Requirement already satisfied: sniffio>=1.1 in /usr/local/lib/python3.10/dist-packages (from anyio<4,>=3.1.0->jupyter-server<3,>=1.8->notebook-shim>=0.2.3->nbclassic>=0.4.7->notebook>=4.4.1->widgetsnbextension~=3.6.0->ipywidgets) (1.3.1)\n",
            "Requirement already satisfied: exceptiongroup in /usr/local/lib/python3.10/dist-packages (from anyio<4,>=3.1.0->jupyter-server<3,>=1.8->notebook-shim>=0.2.3->nbclassic>=0.4.7->notebook>=4.4.1->widgetsnbextension~=3.6.0->ipywidgets) (1.2.2)\n",
            "Downloading ipyaladin-0.5.2-py3-none-any.whl (21 kB)\n",
            "Downloading anywidget-0.9.13-py3-none-any.whl (213 kB)\n",
            "\u001b[2K   \u001b[90m━━━━━━━━━━━━━━━━━━━━━━━━━━━━━━━━━━━━━━━━\u001b[0m \u001b[32m213.7/213.7 kB\u001b[0m \u001b[31m9.5 MB/s\u001b[0m eta \u001b[36m0:00:00\u001b[0m\n",
            "\u001b[?25hDownloading jedi-0.19.2-py2.py3-none-any.whl (1.6 MB)\n",
            "\u001b[2K   \u001b[90m━━━━━━━━━━━━━━━━━━━━━━━━━━━━━━━━━━━━━━━━\u001b[0m \u001b[32m1.6/1.6 MB\u001b[0m \u001b[31m56.0 MB/s\u001b[0m eta \u001b[36m0:00:00\u001b[0m\n",
            "\u001b[?25hDownloading psygnal-0.11.1-cp310-cp310-manylinux_2_17_x86_64.manylinux2014_x86_64.whl (727 kB)\n",
            "\u001b[2K   \u001b[90m━━━━━━━━━━━━━━━━━━━━━━━━━━━━━━━━━━━━━━━━\u001b[0m \u001b[32m727.4/727.4 kB\u001b[0m \u001b[31m33.4 MB/s\u001b[0m eta \u001b[36m0:00:00\u001b[0m\n",
            "\u001b[?25hInstalling collected packages: psygnal, jedi, anywidget, ipyaladin\n",
            "Successfully installed anywidget-0.9.13 ipyaladin-0.5.2 jedi-0.19.2 psygnal-0.11.1\n"
          ]
        }
      ]
    },
    {
      "cell_type": "code",
      "source": [
        "import ipyaladin\n",
        "from ipywidgets import VBox\n",
        "\n",
        "# Path to your FITS file\n",
        "fits_file_path = '/content/gd1_results.fits'  # Replace with the path to your FITS file\n",
        "\n",
        "# Create an Aladin viewer instance\n",
        "aladin = ipyaladin.Aladin(fits=fits_file_path)\n",
        "\n",
        "# Display the viewer in Jupyter Notebook\n",
        "VBox([aladin])\n"
      ],
      "metadata": {
        "colab": {
          "base_uri": "https://localhost:8080/",
          "height": 417,
          "referenced_widgets": [
            "de5ac2e29a744c7396d30313b36836aa",
            "b05372aaaa474baa9d41e4d891ab589d",
            "058cc8e7639e4d018477c42e086433ab",
            "df6550a14c564a098ef078461c65f415"
          ]
        },
        "id": "L_Je5q9Wn9v_",
        "outputId": "080bbaee-0006-4b71-d51f-0d3b12d5b2b7"
      },
      "execution_count": 69,
      "outputs": [
        {
          "output_type": "display_data",
          "data": {
            "text/plain": [
              "VBox(children=(Aladin(),))"
            ],
            "application/vnd.jupyter.widget-view+json": {
              "version_major": 2,
              "version_minor": 0,
              "model_id": "de5ac2e29a744c7396d30313b36836aa"
            }
          },
          "metadata": {
            "application/vnd.jupyter.widget-view+json": {
              "colab": {
                "custom_widget_manager": {
                  "url": "https://ssl.gstatic.com/colaboratory-static/widgets/colab-cdn-widget-manager/2b70e893a8ba7c0f/manager.min.js"
                }
              }
            }
          }
        }
      ]
    }
  ]
}