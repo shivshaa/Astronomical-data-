{
  "nbformat": 4,
  "nbformat_minor": 0,
  "metadata": {
    "colab": {
      "provenance": []
    },
    "kernelspec": {
      "name": "python3",
      "display_name": "Python 3"
    },
    "language_info": {
      "name": "python"
    }
  },
  "cells": [
    {
      "cell_type": "code",
      "execution_count": null,
      "metadata": {
        "colab": {
          "base_uri": "https://localhost:8080/"
        },
        "id": "buYGf5bUcsun",
        "outputId": "c354393f-c1b0-402a-9c39-de625753673e"
      },
      "outputs": [
        {
          "output_type": "stream",
          "name": "stdout",
          "text": [
            "Collecting astroquery\n",
            "  Downloading astroquery-0.4.7-py3-none-any.whl.metadata (7.2 kB)\n",
            "Requirement already satisfied: numpy>=1.18 in /usr/local/lib/python3.10/dist-packages (from astroquery) (1.26.4)\n",
            "Requirement already satisfied: astropy>=4.2.1 in /usr/local/lib/python3.10/dist-packages (from astroquery) (6.1.7)\n",
            "Requirement already satisfied: requests>=2.19 in /usr/local/lib/python3.10/dist-packages (from astroquery) (2.32.3)\n",
            "Requirement already satisfied: beautifulsoup4>=4.8 in /usr/local/lib/python3.10/dist-packages (from astroquery) (4.12.3)\n",
            "Requirement already satisfied: html5lib>=0.999 in /usr/local/lib/python3.10/dist-packages (from astroquery) (1.1)\n",
            "Requirement already satisfied: keyring>=15.0 in /usr/lib/python3/dist-packages (from astroquery) (23.5.0)\n",
            "Collecting pyvo>=1.1 (from astroquery)\n",
            "  Downloading pyvo-1.6-py3-none-any.whl.metadata (4.8 kB)\n",
            "Requirement already satisfied: pyerfa>=2.0.1.1 in /usr/local/lib/python3.10/dist-packages (from astropy>=4.2.1->astroquery) (2.0.1.5)\n",
            "Requirement already satisfied: astropy-iers-data>=0.2024.10.28.0.34.7 in /usr/local/lib/python3.10/dist-packages (from astropy>=4.2.1->astroquery) (0.2024.12.16.0.35.48)\n",
            "Requirement already satisfied: PyYAML>=3.13 in /usr/local/lib/python3.10/dist-packages (from astropy>=4.2.1->astroquery) (6.0.2)\n",
            "Requirement already satisfied: packaging>=19.0 in /usr/local/lib/python3.10/dist-packages (from astropy>=4.2.1->astroquery) (24.2)\n",
            "Requirement already satisfied: soupsieve>1.2 in /usr/local/lib/python3.10/dist-packages (from beautifulsoup4>=4.8->astroquery) (2.6)\n",
            "Requirement already satisfied: six>=1.9 in /usr/local/lib/python3.10/dist-packages (from html5lib>=0.999->astroquery) (1.17.0)\n",
            "Requirement already satisfied: webencodings in /usr/local/lib/python3.10/dist-packages (from html5lib>=0.999->astroquery) (0.5.1)\n",
            "Requirement already satisfied: charset-normalizer<4,>=2 in /usr/local/lib/python3.10/dist-packages (from requests>=2.19->astroquery) (3.4.0)\n",
            "Requirement already satisfied: idna<4,>=2.5 in /usr/local/lib/python3.10/dist-packages (from requests>=2.19->astroquery) (3.10)\n",
            "Requirement already satisfied: urllib3<3,>=1.21.1 in /usr/local/lib/python3.10/dist-packages (from requests>=2.19->astroquery) (2.2.3)\n",
            "Requirement already satisfied: certifi>=2017.4.17 in /usr/local/lib/python3.10/dist-packages (from requests>=2.19->astroquery) (2024.12.14)\n",
            "Downloading astroquery-0.4.7-py3-none-any.whl (5.3 MB)\n",
            "\u001b[2K   \u001b[90m━━━━━━━━━━━━━━━━━━━━━━━━━━━━━━━━━━━━━━━━\u001b[0m \u001b[32m5.3/5.3 MB\u001b[0m \u001b[31m36.8 MB/s\u001b[0m eta \u001b[36m0:00:00\u001b[0m\n",
            "\u001b[?25hDownloading pyvo-1.6-py3-none-any.whl (994 kB)\n",
            "\u001b[2K   \u001b[90m━━━━━━━━━━━━━━━━━━━━━━━━━━━━━━━━━━━━━━━━\u001b[0m \u001b[32m994.8/994.8 kB\u001b[0m \u001b[31m47.3 MB/s\u001b[0m eta \u001b[36m0:00:00\u001b[0m\n",
            "\u001b[?25hInstalling collected packages: pyvo, astroquery\n",
            "Successfully installed astroquery-0.4.7 pyvo-1.6\n"
          ]
        }
      ],
      "source": [
        "import sys\n",
        "IN_COLAB = 'google.colab' in sys.modules\n",
        "\n",
        "if IN_COLAB:\n",
        "    !pip install astroquery"
      ]
    },
    {
      "cell_type": "code",
      "source": [
        "from astroquery.gaia import Gaia"
      ],
      "metadata": {
        "id": "y3Fx6XJ3dBLm"
      },
      "execution_count": null,
      "outputs": []
    },
    {
      "cell_type": "code",
      "source": [
        "tables = Gaia.load_tables(only_names=True)"
      ],
      "metadata": {
        "colab": {
          "base_uri": "https://localhost:8080/"
        },
        "id": "ETfIlB7BdKkt",
        "outputId": "dc4b24de-9c1d-4f1b-f9a1-8a7127937146"
      },
      "execution_count": null,
      "outputs": [
        {
          "output_type": "stream",
          "name": "stderr",
          "text": [
            "INFO:astroquery:Retrieving tables...\n"
          ]
        },
        {
          "output_type": "stream",
          "name": "stdout",
          "text": [
            "INFO: Retrieving tables... [astroquery.utils.tap.core]\n"
          ]
        },
        {
          "output_type": "stream",
          "name": "stderr",
          "text": [
            "INFO:astroquery:Parsing tables...\n"
          ]
        },
        {
          "output_type": "stream",
          "name": "stdout",
          "text": [
            "INFO: Parsing tables... [astroquery.utils.tap.core]\n"
          ]
        },
        {
          "output_type": "stream",
          "name": "stderr",
          "text": [
            "INFO:astroquery:Done.\n"
          ]
        },
        {
          "output_type": "stream",
          "name": "stdout",
          "text": [
            "INFO: Done. [astroquery.utils.tap.core]\n"
          ]
        }
      ]
    },
    {
      "cell_type": "code",
      "source": [
        "for table in tables:\n",
        "    print(table.name)"
      ],
      "metadata": {
        "colab": {
          "base_uri": "https://localhost:8080/"
        },
        "id": "TREI58JedKq4",
        "outputId": "03b7c605-befa-4303-c536-ed5125069c3e"
      },
      "execution_count": null,
      "outputs": [
        {
          "output_type": "stream",
          "name": "stdout",
          "text": [
            "external.apassdr9\n",
            "external.catwise2020\n",
            "external.gaiadr2_astrophysical_parameters\n",
            "external.gaiadr2_geometric_distance\n",
            "external.gaiaedr3_distance\n",
            "external.gaiaedr3_gcns_main_1\n",
            "external.gaiaedr3_gcns_rejected_1\n",
            "external.gaiaedr3_spurious\n",
            "external.gaia_eso_survey\n",
            "external.galex_ais\n",
            "external.lamost_dr9_lrs\n",
            "external.lamost_dr9_mrs\n",
            "external.ravedr5_com\n",
            "external.ravedr5_dr5\n",
            "external.ravedr5_gra\n",
            "external.ravedr5_on\n",
            "external.ravedr6\n",
            "external.sdssdr13_photoprimary\n",
            "external.skymapperdr1_master\n",
            "external.skymapperdr2_master\n",
            "external.tmass_xsc\n",
            "external.xgboost_table1\n",
            "external.xgboost_table2\n",
            "gaiadr1.aux_qso_icrf2_match\n",
            "gaiadr1.ext_phot_zero_point\n",
            "gaiadr1.allwise_best_neighbour\n",
            "gaiadr1.allwise_neighbourhood\n",
            "gaiadr1.gsc23_best_neighbour\n",
            "gaiadr1.gsc23_neighbourhood\n",
            "gaiadr1.ppmxl_best_neighbour\n",
            "gaiadr1.ppmxl_neighbourhood\n",
            "gaiadr1.sdss_dr9_best_neighbour\n",
            "gaiadr1.sdss_dr9_neighbourhood\n",
            "gaiadr1.tmass_best_neighbour\n",
            "gaiadr1.tmass_neighbourhood\n",
            "gaiadr1.ucac4_best_neighbour\n",
            "gaiadr1.ucac4_neighbourhood\n",
            "gaiadr1.urat1_best_neighbour\n",
            "gaiadr1.urat1_neighbourhood\n",
            "gaiadr1.cepheid\n",
            "gaiadr1.phot_variable_time_series_gfov\n",
            "gaiadr1.phot_variable_time_series_gfov_statistical_parameters\n",
            "gaiadr1.rrlyrae\n",
            "gaiadr1.variable_summary\n",
            "gaiadr1.allwise_original_valid\n",
            "gaiadr1.gsc23_original_valid\n",
            "gaiadr1.ppmxl_original_valid\n",
            "gaiadr1.sdssdr9_original_valid\n",
            "gaiadr1.tmass_original_valid\n",
            "gaiadr1.ucac4_original_valid\n",
            "gaiadr1.urat1_original_valid\n",
            "gaiadr1.gaia_source\n",
            "gaiadr1.tgas_source\n",
            "gaiadr2.aux_allwise_agn_gdr2_cross_id\n",
            "gaiadr2.aux_iers_gdr2_cross_id\n",
            "gaiadr2.aux_sso_orbit_residuals\n",
            "gaiadr2.aux_sso_orbits\n",
            "gaiadr2.dr1_neighbourhood\n",
            "gaiadr2.allwise_best_neighbour\n",
            "gaiadr2.allwise_neighbourhood\n",
            "gaiadr2.apassdr9_best_neighbour\n",
            "gaiadr2.apassdr9_neighbourhood\n",
            "gaiadr2.gsc23_best_neighbour\n",
            "gaiadr2.gsc23_neighbourhood\n",
            "gaiadr2.hipparcos2_best_neighbour\n",
            "gaiadr2.hipparcos2_neighbourhood\n",
            "gaiadr2.panstarrs1_best_neighbour\n",
            "gaiadr2.panstarrs1_neighbourhood\n",
            "gaiadr2.ppmxl_best_neighbour\n",
            "gaiadr2.ppmxl_neighbourhood\n",
            "gaiadr2.ravedr5_best_neighbour\n",
            "gaiadr2.ravedr5_neighbourhood\n",
            "gaiadr2.sdssdr9_best_neighbour\n",
            "gaiadr2.sdssdr9_neighbourhood\n",
            "gaiadr2.tmass_best_neighbour\n",
            "gaiadr2.tmass_neighbourhood\n",
            "gaiadr2.tycho2_best_neighbour\n",
            "gaiadr2.tycho2_neighbourhood\n",
            "gaiadr2.urat1_best_neighbour\n",
            "gaiadr2.urat1_neighbourhood\n",
            "gaiadr2.sso_observation\n",
            "gaiadr2.sso_source\n",
            "gaiadr2.vari_cepheid\n",
            "gaiadr2.vari_classifier_class_definition\n",
            "gaiadr2.vari_classifier_definition\n",
            "gaiadr2.vari_classifier_result\n",
            "gaiadr2.vari_long_period_variable\n",
            "gaiadr2.vari_rotation_modulation\n",
            "gaiadr2.vari_rrlyrae\n",
            "gaiadr2.vari_short_timescale\n",
            "gaiadr2.vari_time_series_statistics\n",
            "gaiadr2.panstarrs1_original_valid\n",
            "gaiadr2.gaia_source\n",
            "gaiadr2.ruwe\n",
            "gaiadr3.gaia_source\n",
            "gaiadr3.gaia_source_lite\n",
            "gaiadr3.astrophysical_parameters\n",
            "gaiadr3.astrophysical_parameters_supp\n",
            "gaiadr3.oa_neuron_information\n",
            "gaiadr3.oa_neuron_xp_spectra\n",
            "gaiadr3.total_galactic_extinction_map\n",
            "gaiadr3.total_galactic_extinction_map_opt\n",
            "gaiadr3.commanded_scan_law\n",
            "gaiadr3.allwise_best_neighbour\n",
            "gaiadr3.allwise_neighbourhood\n",
            "gaiadr3.apassdr9_best_neighbour\n",
            "gaiadr3.apassdr9_join\n",
            "gaiadr3.apassdr9_neighbourhood\n",
            "gaiadr3.dr2_neighbourhood\n",
            "gaiadr3.gsc23_best_neighbour\n",
            "gaiadr3.gsc23_join\n",
            "gaiadr3.gsc23_neighbourhood\n",
            "gaiadr3.hipparcos2_best_neighbour\n",
            "gaiadr3.hipparcos2_neighbourhood\n",
            "gaiadr3.panstarrs1_best_neighbour\n",
            "gaiadr3.panstarrs1_join\n",
            "gaiadr3.panstarrs1_neighbourhood\n",
            "gaiadr3.ravedr5_best_neighbour\n",
            "gaiadr3.ravedr5_join\n",
            "gaiadr3.ravedr5_neighbourhood\n",
            "gaiadr3.ravedr6_best_neighbour\n",
            "gaiadr3.ravedr6_join\n",
            "gaiadr3.ravedr6_neighbourhood\n",
            "gaiadr3.sdssdr13_best_neighbour\n",
            "gaiadr3.sdssdr13_join\n",
            "gaiadr3.sdssdr13_neighbourhood\n",
            "gaiadr3.skymapperdr2_best_neighbour\n",
            "gaiadr3.skymapperdr2_join\n",
            "gaiadr3.skymapperdr2_neighbourhood\n",
            "gaiadr3.tmass_psc_xsc_best_neighbour\n",
            "gaiadr3.tmass_psc_xsc_join\n",
            "gaiadr3.tmass_psc_xsc_neighbourhood\n",
            "gaiadr3.tycho2tdsc_merge_best_neighbour\n",
            "gaiadr3.tycho2tdsc_merge_neighbourhood\n",
            "gaiadr3.urat1_best_neighbour\n",
            "gaiadr3.urat1_neighbourhood\n",
            "gaiadr3.galaxy_candidates\n",
            "gaiadr3.galaxy_catalogue_name\n",
            "gaiadr3.qso_candidates\n",
            "gaiadr3.qso_catalogue_name\n",
            "gaiadr3.nss_acceleration_astro\n",
            "gaiadr3.nss_non_linear_spectro\n",
            "gaiadr3.nss_two_body_orbit\n",
            "gaiadr3.nss_vim_fl\n",
            "gaiadr3.binary_masses\n",
            "gaiadr3.chemical_cartography\n",
            "gaiadr3.gold_sample_carbon_stars\n",
            "gaiadr3.gold_sample_fgkm_stars\n",
            "gaiadr3.gold_sample_oba_stars\n",
            "gaiadr3.gold_sample_solar_analogues\n",
            "gaiadr3.gold_sample_spss\n",
            "gaiadr3.gold_sample_ucd\n",
            "gaiadr3.sso_orbits\n",
            "gaiadr3.synthetic_photometry_gspc\n",
            "gaiadr3.vari_spurious_signals\n",
            "gaiadr3.agn_cross_id\n",
            "gaiadr3.frame_rotator_source\n",
            "gaiadr3.gaia_crf3_xm\n",
            "gaiadr3.alerts_mixedin_sourceids\n",
            "gaiadr3.science_alerts\n",
            "gaiadr3.gaia_source_simulation\n",
            "gaiadr3.gaia_universe_model\n",
            "gaiadr3.sso_observation\n",
            "gaiadr3.sso_reflectance_spectrum\n",
            "gaiadr3.sso_source\n",
            "gaiadr3.xp_summary\n",
            "gaiadr3.vari_agn\n",
            "gaiadr3.vari_cepheid\n",
            "gaiadr3.vari_classifier_class_definition\n",
            "gaiadr3.vari_classifier_definition\n",
            "gaiadr3.vari_classifier_result\n",
            "gaiadr3.vari_compact_companion\n",
            "gaiadr3.vari_eclipsing_binary\n",
            "gaiadr3.vari_epoch_radial_velocity\n",
            "gaiadr3.vari_long_period_variable\n",
            "gaiadr3.vari_microlensing\n",
            "gaiadr3.vari_ms_oscillator\n",
            "gaiadr3.vari_planetary_transit\n",
            "gaiadr3.vari_planetary_transit_13june2022\n",
            "gaiadr3.vari_rad_vel_statistics\n",
            "gaiadr3.vari_rotation_modulation\n",
            "gaiadr3.vari_rrlyrae\n",
            "gaiadr3.vari_short_timescale\n",
            "gaiadr3.vari_summary\n",
            "gaiadr3.tycho2tdsc_merge\n",
            "gaiaedr3.gaia_source\n",
            "gaiaedr3.agn_cross_id\n",
            "gaiaedr3.commanded_scan_law\n",
            "gaiaedr3.dr2_neighbourhood\n",
            "gaiaedr3.frame_rotator_source\n",
            "gaiaedr3.allwise_best_neighbour\n",
            "gaiaedr3.allwise_neighbourhood\n",
            "gaiaedr3.apassdr9_best_neighbour\n",
            "gaiaedr3.apassdr9_join\n",
            "gaiaedr3.apassdr9_neighbourhood\n",
            "gaiaedr3.gsc23_best_neighbour\n",
            "gaiaedr3.gsc23_join\n",
            "gaiaedr3.gsc23_neighbourhood\n",
            "gaiaedr3.hipparcos2_best_neighbour\n",
            "gaiaedr3.hipparcos2_neighbourhood\n",
            "gaiaedr3.panstarrs1_best_neighbour\n",
            "gaiaedr3.panstarrs1_join\n",
            "gaiaedr3.panstarrs1_neighbourhood\n",
            "gaiaedr3.ravedr5_best_neighbour\n",
            "gaiaedr3.ravedr5_join\n",
            "gaiaedr3.ravedr5_neighbourhood\n",
            "gaiaedr3.sdssdr13_best_neighbour\n",
            "gaiaedr3.sdssdr13_join\n",
            "gaiaedr3.sdssdr13_neighbourhood\n",
            "gaiaedr3.skymapperdr2_best_neighbour\n",
            "gaiaedr3.skymapperdr2_join\n",
            "gaiaedr3.skymapperdr2_neighbourhood\n",
            "gaiaedr3.tmass_psc_xsc_best_neighbour\n",
            "gaiaedr3.tmass_psc_xsc_join\n",
            "gaiaedr3.tmass_psc_xsc_neighbourhood\n",
            "gaiaedr3.tycho2tdsc_merge_best_neighbour\n",
            "gaiaedr3.tycho2tdsc_merge_neighbourhood\n",
            "gaiaedr3.urat1_best_neighbour\n",
            "gaiaedr3.urat1_neighbourhood\n",
            "gaiaedr3.gaia_source_simulation\n",
            "gaiaedr3.gaia_universe_model\n",
            "gaiaedr3.tycho2tdsc_merge\n",
            "gaiafpr.crowded_field_source\n",
            "gaiafpr.lens_candidates\n",
            "gaiafpr.lens_catalogue_name\n",
            "gaiafpr.lens_observation\n",
            "gaiafpr.lens_outlier\n",
            "gaiafpr.sso_observation\n",
            "gaiafpr.sso_source\n",
            "gaiafpr.interstellar_medium_params\n",
            "gaiafpr.interstellar_medium_spectra\n",
            "gaiafpr.vari_epoch_radial_velocity\n",
            "gaiafpr.vari_long_period_variable\n",
            "gaiafpr.vari_rad_vel_statistics\n",
            "public.hipparcos\n",
            "public.hipparcos_newreduction\n",
            "public.hubble_sc\n",
            "public.igsl_source\n",
            "public.igsl_source_catalog_ids\n",
            "public.tycho2\n",
            "public.dual\n",
            "tap_config.coord_sys\n",
            "tap_config.properties\n",
            "tap_schema.columns\n",
            "tap_schema.key_columns\n",
            "tap_schema.keys\n",
            "tap_schema.schemas\n",
            "tap_schema.tables\n"
          ]
        }
      ]
    },
    {
      "cell_type": "code",
      "source": [
        "meta = Gaia.load_table('gaiadr2.gaia_source')\n",
        "meta"
      ],
      "metadata": {
        "colab": {
          "base_uri": "https://localhost:8080/"
        },
        "id": "PzI4fKrPdKwX",
        "outputId": "48a7a840-2170-4cc6-c7bf-545114275e6d"
      },
      "execution_count": null,
      "outputs": [
        {
          "output_type": "execute_result",
          "data": {
            "text/plain": [
              "<astroquery.utils.tap.model.taptable.TapTableMeta at 0x7969909e63e0>"
            ]
          },
          "metadata": {},
          "execution_count": 12
        }
      ]
    },
    {
      "cell_type": "code",
      "source": [
        "print(meta)"
      ],
      "metadata": {
        "colab": {
          "base_uri": "https://localhost:8080/"
        },
        "id": "R5JhXDbqdK1F",
        "outputId": "b6409cdd-dad3-42ba-c0b4-6d414ad5d658"
      },
      "execution_count": null,
      "outputs": [
        {
          "output_type": "stream",
          "name": "stdout",
          "text": [
            "TAP Table name: gaiadr2.gaiadr2.gaia_source\n",
            "Description: This table has an entry for every Gaia observed source as listed in the\n",
            "Main Database accumulating catalogue version from which the catalogue\n",
            "release has been generated. It contains the basic source parameters,\n",
            "that is only final data (no epoch data) and no spectra (neither final\n",
            "nor epoch).\n",
            "Num. columns: 96\n"
          ]
        }
      ]
    },
    {
      "cell_type": "code",
      "source": [
        "for column in meta.columns:\n",
        "    print(column.name)"
      ],
      "metadata": {
        "colab": {
          "base_uri": "https://localhost:8080/"
        },
        "id": "9rdTBo5pfSdL",
        "outputId": "7a34891a-798f-496c-f576-c0ad751cd960"
      },
      "execution_count": null,
      "outputs": [
        {
          "output_type": "stream",
          "name": "stdout",
          "text": [
            "solution_id\n",
            "designation\n",
            "source_id\n",
            "random_index\n",
            "ref_epoch\n",
            "ra\n",
            "ra_error\n",
            "dec\n",
            "dec_error\n",
            "parallax\n",
            "parallax_error\n",
            "parallax_over_error\n",
            "pmra\n",
            "pmra_error\n",
            "pmdec\n",
            "pmdec_error\n",
            "ra_dec_corr\n",
            "ra_parallax_corr\n",
            "ra_pmra_corr\n",
            "ra_pmdec_corr\n",
            "dec_parallax_corr\n",
            "dec_pmra_corr\n",
            "dec_pmdec_corr\n",
            "parallax_pmra_corr\n",
            "parallax_pmdec_corr\n",
            "pmra_pmdec_corr\n",
            "astrometric_n_obs_al\n",
            "astrometric_n_obs_ac\n",
            "astrometric_n_good_obs_al\n",
            "astrometric_n_bad_obs_al\n",
            "astrometric_gof_al\n",
            "astrometric_chi2_al\n",
            "astrometric_excess_noise\n",
            "astrometric_excess_noise_sig\n",
            "astrometric_params_solved\n",
            "astrometric_primary_flag\n",
            "astrometric_weight_al\n",
            "astrometric_pseudo_colour\n",
            "astrometric_pseudo_colour_error\n",
            "mean_varpi_factor_al\n",
            "astrometric_matched_observations\n",
            "visibility_periods_used\n",
            "astrometric_sigma5d_max\n",
            "frame_rotator_object_type\n",
            "matched_observations\n",
            "duplicated_source\n",
            "phot_g_n_obs\n",
            "phot_g_mean_flux\n",
            "phot_g_mean_flux_error\n",
            "phot_g_mean_flux_over_error\n",
            "phot_g_mean_mag\n",
            "phot_bp_n_obs\n",
            "phot_bp_mean_flux\n",
            "phot_bp_mean_flux_error\n",
            "phot_bp_mean_flux_over_error\n",
            "phot_bp_mean_mag\n",
            "phot_rp_n_obs\n",
            "phot_rp_mean_flux\n",
            "phot_rp_mean_flux_error\n",
            "phot_rp_mean_flux_over_error\n",
            "phot_rp_mean_mag\n",
            "phot_bp_rp_excess_factor\n",
            "phot_proc_mode\n",
            "bp_rp\n",
            "bp_g\n",
            "g_rp\n",
            "radial_velocity\n",
            "radial_velocity_error\n",
            "rv_nb_transits\n",
            "rv_template_teff\n",
            "rv_template_logg\n",
            "rv_template_fe_h\n",
            "phot_variable_flag\n",
            "l\n",
            "b\n",
            "ecl_lon\n",
            "ecl_lat\n",
            "priam_flags\n",
            "teff_val\n",
            "teff_percentile_lower\n",
            "teff_percentile_upper\n",
            "a_g_val\n",
            "a_g_percentile_lower\n",
            "a_g_percentile_upper\n",
            "e_bp_min_rp_val\n",
            "e_bp_min_rp_percentile_lower\n",
            "e_bp_min_rp_percentile_upper\n",
            "flame_flags\n",
            "radius_val\n",
            "radius_percentile_lower\n",
            "radius_percentile_upper\n",
            "lum_val\n",
            "lum_percentile_lower\n",
            "lum_percentile_upper\n",
            "datalink_url\n",
            "epoch_photometry_url\n"
          ]
        }
      ]
    },
    {
      "cell_type": "code",
      "source": [
        "# Load the metadata for the table\n",
        "table_metadata = Gaia.load_table('gaiadr2.panstarrs1_original_valid')\n",
        "\n",
        "# Print the column names\n",
        "columns = table_metadata.columns\n",
        "print(f\"Number of columns: {len(columns)}\")\n",
        "print(\"Column names:\")\n",
        "for column in columns:\n",
        "    print(column.name)"
      ],
      "metadata": {
        "colab": {
          "base_uri": "https://localhost:8080/"
        },
        "id": "cpLr316JfSnX",
        "outputId": "c98f80ea-4ca4-4c63-e244-3635a18e3149"
      },
      "execution_count": null,
      "outputs": [
        {
          "output_type": "stream",
          "name": "stdout",
          "text": [
            "Number of columns: 26\n",
            "Column names:\n",
            "obj_name\n",
            "obj_id\n",
            "ra\n",
            "dec\n",
            "ra_error\n",
            "dec_error\n",
            "epoch_mean\n",
            "g_mean_psf_mag\n",
            "g_mean_psf_mag_error\n",
            "g_flags\n",
            "r_mean_psf_mag\n",
            "r_mean_psf_mag_error\n",
            "r_flags\n",
            "i_mean_psf_mag\n",
            "i_mean_psf_mag_error\n",
            "i_flags\n",
            "z_mean_psf_mag\n",
            "z_mean_psf_mag_error\n",
            "z_flags\n",
            "y_mean_psf_mag\n",
            "y_mean_psf_mag_error\n",
            "y_flags\n",
            "n_detections\n",
            "zone_id\n",
            "obj_info_flag\n",
            "quality_flag\n"
          ]
        }
      ]
    },
    {
      "cell_type": "code",
      "source": [
        "# Load the metadata for the table\n",
        "table_metadata = Gaia.load_table('gaiadr2.gaia_source')\n",
        "\n",
        "# Print the column names\n",
        "columns = table_metadata.columns\n",
        "print(f\"Number of columns: {len(columns)}\")\n",
        "print(\"Column names:\")\n",
        "for column in columns:\n",
        "    print(column.name)"
      ],
      "metadata": {
        "colab": {
          "base_uri": "https://localhost:8080/"
        },
        "id": "s59PQUGjivdD",
        "outputId": "688e2cbf-fdd9-4d50-ac79-0ce3ec7ead5b"
      },
      "execution_count": null,
      "outputs": [
        {
          "output_type": "stream",
          "name": "stdout",
          "text": [
            "Number of columns: 96\n",
            "Column names:\n",
            "solution_id\n",
            "designation\n",
            "source_id\n",
            "random_index\n",
            "ref_epoch\n",
            "ra\n",
            "ra_error\n",
            "dec\n",
            "dec_error\n",
            "parallax\n",
            "parallax_error\n",
            "parallax_over_error\n",
            "pmra\n",
            "pmra_error\n",
            "pmdec\n",
            "pmdec_error\n",
            "ra_dec_corr\n",
            "ra_parallax_corr\n",
            "ra_pmra_corr\n",
            "ra_pmdec_corr\n",
            "dec_parallax_corr\n",
            "dec_pmra_corr\n",
            "dec_pmdec_corr\n",
            "parallax_pmra_corr\n",
            "parallax_pmdec_corr\n",
            "pmra_pmdec_corr\n",
            "astrometric_n_obs_al\n",
            "astrometric_n_obs_ac\n",
            "astrometric_n_good_obs_al\n",
            "astrometric_n_bad_obs_al\n",
            "astrometric_gof_al\n",
            "astrometric_chi2_al\n",
            "astrometric_excess_noise\n",
            "astrometric_excess_noise_sig\n",
            "astrometric_params_solved\n",
            "astrometric_primary_flag\n",
            "astrometric_weight_al\n",
            "astrometric_pseudo_colour\n",
            "astrometric_pseudo_colour_error\n",
            "mean_varpi_factor_al\n",
            "astrometric_matched_observations\n",
            "visibility_periods_used\n",
            "astrometric_sigma5d_max\n",
            "frame_rotator_object_type\n",
            "matched_observations\n",
            "duplicated_source\n",
            "phot_g_n_obs\n",
            "phot_g_mean_flux\n",
            "phot_g_mean_flux_error\n",
            "phot_g_mean_flux_over_error\n",
            "phot_g_mean_mag\n",
            "phot_bp_n_obs\n",
            "phot_bp_mean_flux\n",
            "phot_bp_mean_flux_error\n",
            "phot_bp_mean_flux_over_error\n",
            "phot_bp_mean_mag\n",
            "phot_rp_n_obs\n",
            "phot_rp_mean_flux\n",
            "phot_rp_mean_flux_error\n",
            "phot_rp_mean_flux_over_error\n",
            "phot_rp_mean_mag\n",
            "phot_bp_rp_excess_factor\n",
            "phot_proc_mode\n",
            "bp_rp\n",
            "bp_g\n",
            "g_rp\n",
            "radial_velocity\n",
            "radial_velocity_error\n",
            "rv_nb_transits\n",
            "rv_template_teff\n",
            "rv_template_logg\n",
            "rv_template_fe_h\n",
            "phot_variable_flag\n",
            "l\n",
            "b\n",
            "ecl_lon\n",
            "ecl_lat\n",
            "priam_flags\n",
            "teff_val\n",
            "teff_percentile_lower\n",
            "teff_percentile_upper\n",
            "a_g_val\n",
            "a_g_percentile_lower\n",
            "a_g_percentile_upper\n",
            "e_bp_min_rp_val\n",
            "e_bp_min_rp_percentile_lower\n",
            "e_bp_min_rp_percentile_upper\n",
            "flame_flags\n",
            "radius_val\n",
            "radius_percentile_lower\n",
            "radius_percentile_upper\n",
            "lum_val\n",
            "lum_percentile_lower\n",
            "lum_percentile_upper\n",
            "datalink_url\n",
            "epoch_photometry_url\n"
          ]
        }
      ]
    },
    {
      "cell_type": "markdown",
      "source": [
        "## With tables this big, you generally don't. Instead, you use queries to select only the data you want.\n",
        "## A query is a string written in a query language like SQL; for the Gaia database, the query language is a dialect of SQL called ADQL"
      ],
      "metadata": {
        "id": "7pzVvN9wGI9i"
      }
    },
    {
      "cell_type": "code",
      "source": [
        "query1 = \"\"\"SELECT\n",
        "TOP 10\n",
        "source_id, ra, dec, parallax\n",
        "FROM gaiadr2.gaia_source\n",
        "\"\"\""
      ],
      "metadata": {
        "id": "26jR1QnSfStp"
      },
      "execution_count": null,
      "outputs": []
    },
    {
      "cell_type": "code",
      "source": [
        "job = Gaia.launch_job(query1)\n",
        "job"
      ],
      "metadata": {
        "colab": {
          "base_uri": "https://localhost:8080/"
        },
        "id": "CZYP-dn0fSy3",
        "outputId": "ba234934-178e-4b8b-fac4-331b6cc33604"
      },
      "execution_count": null,
      "outputs": [
        {
          "output_type": "execute_result",
          "data": {
            "text/plain": [
              "<astroquery.utils.tap.model.job.Job at 0x796990720fd0>"
            ]
          },
          "metadata": {},
          "execution_count": 18
        }
      ]
    },
    {
      "cell_type": "code",
      "source": [
        "print(job)"
      ],
      "metadata": {
        "colab": {
          "base_uri": "https://localhost:8080/"
        },
        "id": "5BFvtGpCgsWX",
        "outputId": "fcae5af7-6538-4d3b-c499-6df87cb06dc0"
      },
      "execution_count": null,
      "outputs": [
        {
          "output_type": "stream",
          "name": "stdout",
          "text": [
            "<Table length=10>\n",
            "   name    dtype  unit                            description                             n_bad\n",
            "--------- ------- ---- ------------------------------------------------------------------ -----\n",
            "SOURCE_ID   int64      Unique source identifier (unique within a particular Data Release)     0\n",
            "       ra float64  deg                                                    Right ascension     0\n",
            "      dec float64  deg                                                        Declination     0\n",
            " parallax float64  mas                                                           Parallax     3\n",
            "Jobid: None\n",
            "Phase: COMPLETED\n",
            "Owner: None\n",
            "Output file: 1734773291011O-result.vot.gz\n",
            "Results: None\n"
          ]
        }
      ]
    },
    {
      "cell_type": "code",
      "source": [
        "results = job.get_results()\n",
        "type(results)"
      ],
      "metadata": {
        "colab": {
          "base_uri": "https://localhost:8080/",
          "height": 203
        },
        "id": "1Hlh1LSkg2Vq",
        "outputId": "5f1eb169-bc93-4abd-d667-f5a9d11149c5"
      },
      "execution_count": null,
      "outputs": [
        {
          "output_type": "execute_result",
          "data": {
            "text/plain": [
              "astropy.table.table.Table"
            ],
            "text/html": [
              "<div style=\"max-width:800px; border: 1px solid var(--colab-border-color);\"><style>\n",
              "      pre.function-repr-contents {\n",
              "        overflow-x: auto;\n",
              "        padding: 8px 12px;\n",
              "        max-height: 500px;\n",
              "      }\n",
              "\n",
              "      pre.function-repr-contents.function-repr-contents-collapsed {\n",
              "        cursor: pointer;\n",
              "        max-height: 100px;\n",
              "      }\n",
              "    </style>\n",
              "    <pre style=\"white-space: initial; background:\n",
              "         var(--colab-secondary-surface-color); padding: 8px 12px;\n",
              "         border-bottom: 1px solid var(--colab-border-color);\"><b>astropy.table.table.Table</b><br/>def __init__(data=None, masked=False, names=None, dtype=None, meta=None, copy=True, rows=None, copy_indices=True, units=None, descriptions=None, **kwargs)</pre><pre class=\"function-repr-contents function-repr-contents-collapsed\" style=\"\"><a class=\"filepath\" style=\"display:none\" href=\"#\">/usr/local/lib/python3.10/dist-packages/astropy/table/table.py</a>A class to represent tables of heterogeneous data.\n",
              "\n",
              "`~astropy.table.Table` provides a class for heterogeneous tabular data.\n",
              "A key enhancement provided by the `~astropy.table.Table` class over\n",
              "e.g. a `numpy` structured array is the ability to easily modify the\n",
              "structure of the table by adding or removing columns, or adding new\n",
              "rows of data.  In addition table and column metadata are fully supported.\n",
              "\n",
              "`~astropy.table.Table` differs from `~astropy.nddata.NDData` by the\n",
              "assumption that the input data consists of columns of homogeneous data,\n",
              "where each column has a unique identifier and may contain additional\n",
              "metadata such as the data unit, format, and description.\n",
              "\n",
              "See also: https://docs.astropy.org/en/stable/table/\n",
              "\n",
              "Parameters\n",
              "----------\n",
              "data : numpy ndarray, dict, list, table-like object, optional\n",
              "    Data to initialize table.\n",
              "masked : bool, optional\n",
              "    Specify whether the table is masked.\n",
              "names : list, optional\n",
              "    Specify column names.\n",
              "dtype : list, optional\n",
              "    Specify column data types.\n",
              "meta : dict, optional\n",
              "    Metadata associated with the table.\n",
              "copy : bool, optional\n",
              "    Copy the input column data and make a deep copy of the input meta.\n",
              "    Default is True.\n",
              "rows : numpy ndarray, list of list, optional\n",
              "    Row-oriented data for table instead of ``data`` argument.\n",
              "copy_indices : bool, optional\n",
              "    Copy any indices in the input data. Default is True.\n",
              "units : list, dict, optional\n",
              "    List or dict of units to apply to columns.\n",
              "descriptions : list, dict, optional\n",
              "    List or dict of descriptions to apply to columns.\n",
              "**kwargs : dict, optional\n",
              "    Additional keyword args when converting table-like object.</pre>\n",
              "      <script>\n",
              "      if (google.colab.kernel.accessAllowed && google.colab.files && google.colab.files.view) {\n",
              "        for (const element of document.querySelectorAll('.filepath')) {\n",
              "          element.style.display = 'block'\n",
              "          element.onclick = (event) => {\n",
              "            event.preventDefault();\n",
              "            event.stopPropagation();\n",
              "            google.colab.files.view(element.textContent, 582);\n",
              "          };\n",
              "        }\n",
              "      }\n",
              "      for (const element of document.querySelectorAll('.function-repr-contents')) {\n",
              "        element.onclick = (event) => {\n",
              "          event.preventDefault();\n",
              "          event.stopPropagation();\n",
              "          element.classList.toggle('function-repr-contents-collapsed');\n",
              "        };\n",
              "      }\n",
              "      </script>\n",
              "      </div>"
            ]
          },
          "metadata": {},
          "execution_count": 20
        }
      ]
    },
    {
      "cell_type": "code",
      "source": [
        "results"
      ],
      "metadata": {
        "colab": {
          "base_uri": "https://localhost:8080/",
          "height": 308
        },
        "id": "fZ6EHeU2oUZp",
        "outputId": "223c2b40-d046-4daa-e9c1-c9cb19c6494e"
      },
      "execution_count": null,
      "outputs": [
        {
          "output_type": "execute_result",
          "data": {
            "text/plain": [
              "<Table length=10>\n",
              "     SOURCE_ID              ra                 dec               parallax     \n",
              "                           deg                 deg                 mas        \n",
              "       int64             float64             float64             float64      \n",
              "------------------- ------------------ ------------------- -------------------\n",
              "5877876741368246016 222.98249882620405  -60.87221181288378 -0.6081473707878507\n",
              "5877892684292052352 222.67554526340442   -60.7781900596342                  --\n",
              "5877890347843750912  222.4603200874787  -60.77662623653372 0.27153279910922207\n",
              "5877881139433138688 222.82746154677545   -60.7778786919253 0.46346201254860686\n",
              "5877891962735904128 222.44423920568047  -60.67899979828048  1.6030890797872648\n",
              "5877880830195510016 222.79962436280948  -60.77099954139507  0.5121397245189033\n",
              "5877893646366896256 222.69183750719893  -60.72492347496564                  --\n",
              "5877876191630460544 222.87658579696912  -60.91905086944255  0.7653602584755342\n",
              "5877891378619616512 222.36530622470985 -60.739130787823775 0.24424225255977627\n",
              "5877901617774957696  223.8502609525228  -61.12934597862608                  --"
            ],
            "text/html": [
              "<div><i>Table length=10</i>\n",
              "<table id=\"table133494301927472\" class=\"table-striped table-bordered table-condensed\">\n",
              "<thead><tr><th>SOURCE_ID</th><th>ra</th><th>dec</th><th>parallax</th></tr></thead>\n",
              "<thead><tr><th></th><th>deg</th><th>deg</th><th>mas</th></tr></thead>\n",
              "<thead><tr><th>int64</th><th>float64</th><th>float64</th><th>float64</th></tr></thead>\n",
              "<tr><td>5877876741368246016</td><td>222.98249882620405</td><td>-60.87221181288378</td><td>-0.6081473707878507</td></tr>\n",
              "<tr><td>5877892684292052352</td><td>222.67554526340442</td><td>-60.7781900596342</td><td>--</td></tr>\n",
              "<tr><td>5877890347843750912</td><td>222.4603200874787</td><td>-60.77662623653372</td><td>0.27153279910922207</td></tr>\n",
              "<tr><td>5877881139433138688</td><td>222.82746154677545</td><td>-60.7778786919253</td><td>0.46346201254860686</td></tr>\n",
              "<tr><td>5877891962735904128</td><td>222.44423920568047</td><td>-60.67899979828048</td><td>1.6030890797872648</td></tr>\n",
              "<tr><td>5877880830195510016</td><td>222.79962436280948</td><td>-60.77099954139507</td><td>0.5121397245189033</td></tr>\n",
              "<tr><td>5877893646366896256</td><td>222.69183750719893</td><td>-60.72492347496564</td><td>--</td></tr>\n",
              "<tr><td>5877876191630460544</td><td>222.87658579696912</td><td>-60.91905086944255</td><td>0.7653602584755342</td></tr>\n",
              "<tr><td>5877891378619616512</td><td>222.36530622470985</td><td>-60.739130787823775</td><td>0.24424225255977627</td></tr>\n",
              "<tr><td>5877901617774957696</td><td>223.8502609525228</td><td>-61.12934597862608</td><td>--</td></tr>\n",
              "</table></div>"
            ]
          },
          "metadata": {},
          "execution_count": 21
        }
      ]
    },
    {
      "cell_type": "code",
      "source": [
        "query2 = \"\"\"SELECT\n",
        "TOP 30\n",
        "source_id, ra, dec, parallax, random_index, radial_velocity\n",
        "FROM gaiadr2.gaia_source\n",
        "\"\"\""
      ],
      "metadata": {
        "id": "UkP9JlkwhsJ9"
      },
      "execution_count": null,
      "outputs": []
    },
    {
      "cell_type": "code",
      "source": [
        "job2 = Gaia.launch_job(query2)\n",
        "job2"
      ],
      "metadata": {
        "colab": {
          "base_uri": "https://localhost:8080/"
        },
        "id": "Ku_aMcalhsSe",
        "outputId": "97d8503d-cefd-48a7-b5e2-41cb1c0cd73a"
      },
      "execution_count": null,
      "outputs": [
        {
          "output_type": "execute_result",
          "data": {
            "text/plain": [
              "<astroquery.utils.tap.model.job.Job at 0x796990d40ac0>"
            ]
          },
          "metadata": {},
          "execution_count": 23
        }
      ]
    },
    {
      "cell_type": "code",
      "source": [
        "print(job2)"
      ],
      "metadata": {
        "colab": {
          "base_uri": "https://localhost:8080/"
        },
        "id": "YWEycGrehsYl",
        "outputId": "06982bb4-cee3-421b-d54c-af6d6edbf302"
      },
      "execution_count": null,
      "outputs": [
        {
          "output_type": "stream",
          "name": "stdout",
          "text": [
            "<Table length=30>\n",
            "      name       dtype   unit                             description                             n_bad\n",
            "--------------- ------- ------ ------------------------------------------------------------------ -----\n",
            "      SOURCE_ID   int64        Unique source identifier (unique within a particular Data Release)     0\n",
            "             ra float64    deg                                                    Right ascension     0\n",
            "            dec float64    deg                                                        Declination     0\n",
            "       parallax float64    mas                                                           Parallax     6\n",
            "   random_index   int64                                       Random index used to select subsets     0\n",
            "radial_velocity float64 km / s                                                    Radial velocity    30\n",
            "Jobid: None\n",
            "Phase: COMPLETED\n",
            "Owner: None\n",
            "Output file: 1734773315131O-result.vot.gz\n",
            "Results: None\n"
          ]
        }
      ]
    },
    {
      "cell_type": "code",
      "source": [
        "results2 = job2.get_results()\n",
        "print(results2)"
      ],
      "metadata": {
        "colab": {
          "base_uri": "https://localhost:8080/"
        },
        "id": "MKV3PvWfhsfR",
        "outputId": "bbf3fa44-8be8-40fb-e52e-fcc1c18ada10"
      },
      "execution_count": null,
      "outputs": [
        {
          "output_type": "stream",
          "name": "stdout",
          "text": [
            "     SOURCE_ID              ra                 dec         ... random_index radial_velocity\n",
            "                           deg                 deg         ...                   km / s    \n",
            "------------------- ------------------ ------------------- ... ------------ ---------------\n",
            "5877876741368246016 222.98249882620405  -60.87221181288378 ...    570846740              --\n",
            "5877892684292052352 222.67554526340442   -60.7781900596342 ...    285423370              --\n",
            "5877890347843750912  222.4603200874787  -60.77662623653372 ...    142711685              --\n",
            "5877881139433138688 222.82746154677545   -60.7778786919253 ...     71355842              --\n",
            "5877891962735904128 222.44423920568047  -60.67899979828048 ...     35677921              --\n",
            "5877880830195510016 222.79962436280948  -60.77099954139507 ...   1082661304              --\n",
            "5877893646366896256 222.69183750719893  -60.72492347496564 ...    541330652              --\n",
            "5877876191630460544 222.87658579696912  -60.91905086944255 ...    270665326              --\n",
            "5877891378619616512 222.36530622470985 -60.739130787823775 ...    135332663              --\n",
            "                ...                ...                 ... ...          ...             ...\n",
            "5774202376894790784  266.2965454702385  -82.23688310085669 ...      9555779              --\n",
            "5774098374262597248  258.0931419319671  -81.79801211702049 ...   1076130768              --\n",
            "5774151661922549760 257.67040081765566  -81.71990555828033 ...    538065384              --\n",
            "5774224985602825600  269.4313676523263    -81.976546222273 ...   1677870909              --\n",
            "5774127339522279424 255.42421920710282  -81.98551056108911 ...    838935454              --\n",
            "5774162455176658432  256.1558181120713  -81.62861164381545 ...    857739833              --\n",
            "5774137711867417728 255.50863976025894    -81.726911940422 ...    428869916              --\n",
            "5774146649696983936 257.27682263516164  -81.72942869416438 ...   1664221475              --\n",
            "5774105967764378240   258.853073433539  -81.68353329389673 ...   1053189122              --\n",
            "5774223065753237504   269.166280269589   -82.0474349026975 ...    526594561              --\n",
            "Length = 30 rows\n"
          ]
        }
      ]
    },
    {
      "cell_type": "code",
      "source": [
        "query3 = \"\"\"SELECT\n",
        "TOP 3000\n",
        "source_id, ra, dec, pmra, pmdec, parallax\n",
        "FROM gaiadr2.gaia_source\n",
        "WHERE parallax < 1\n",
        "\"\"\""
      ],
      "metadata": {
        "id": "hSxGT9d9hskl"
      },
      "execution_count": null,
      "outputs": []
    },
    {
      "cell_type": "code",
      "source": [
        "job3 = Gaia.launch_job_async(query3)\n",
        "job3"
      ],
      "metadata": {
        "colab": {
          "base_uri": "https://localhost:8080/"
        },
        "id": "SJqhL8jGhsrh",
        "outputId": "f50f8cbc-898c-4853-ae74-2838d431db56"
      },
      "execution_count": null,
      "outputs": [
        {
          "output_type": "stream",
          "name": "stderr",
          "text": [
            "INFO:astroquery:Query finished.\n"
          ]
        },
        {
          "output_type": "stream",
          "name": "stdout",
          "text": [
            "INFO: Query finished. [astroquery.utils.tap.core]\n"
          ]
        },
        {
          "output_type": "execute_result",
          "data": {
            "text/plain": [
              "<astroquery.utils.tap.model.job.Job at 0x796990ba75e0>"
            ]
          },
          "metadata": {},
          "execution_count": 38
        }
      ]
    },
    {
      "cell_type": "code",
      "source": [
        "results = job3.get_results()\n",
        "results[0:10]"
      ],
      "metadata": {
        "colab": {
          "base_uri": "https://localhost:8080/",
          "height": 308
        },
        "id": "Oj8EX7iPjGQV",
        "outputId": "43aa8bfc-37d5-4bf7-9580-3cb236218be2"
      },
      "execution_count": null,
      "outputs": [
        {
          "output_type": "execute_result",
          "data": {
            "text/plain": [
              "<Table length=10>\n",
              "     SOURCE_ID              ra         ...        pmdec              parallax      \n",
              "                           deg         ...       mas / yr              mas         \n",
              "       int64             float64       ...       float64             float64       \n",
              "------------------- ------------------ ... ------------------- --------------------\n",
              "5774166853221253248  255.3792009291943 ...  -4.946660120180574 -0.11656456253184838\n",
              "5774127884983304064 255.46339475536823 ...  -5.863143428860831 -0.28135566087160546\n",
              "5774210313994538368  266.1180678339984 ...  -14.21094590314701   0.9979476982408989\n",
              "5774208596007457152   266.805352200437 ... -0.3195817711486954   0.6886972117381553\n",
              "5774162867493520384   256.190094179224 ...   4.755737573042803   0.7429282991282502\n",
              "5774120497639405568 256.55102650303803 ... -7.9190732076651145   0.5061228771694827\n",
              "5774149261035150720  256.9991478492494 ...  -8.314350843414621  0.23401098321650968\n",
              "5774236736633943296 266.19995027809983 ... -10.853265889384687   0.3542784328706299\n",
              "5774114111024380672  256.2589908628249 ... -13.072830196099344   0.8903614154955298\n",
              "3442415050796378496   83.2104417128269 ...  -1.998333270456468   0.7837593900788928"
            ],
            "text/html": [
              "<div><i>Table length=10</i>\n",
              "<table id=\"table133494307538544\" class=\"table-striped table-bordered table-condensed\">\n",
              "<thead><tr><th>SOURCE_ID</th><th>ra</th><th>dec</th><th>pmra</th><th>pmdec</th><th>parallax</th></tr></thead>\n",
              "<thead><tr><th></th><th>deg</th><th>deg</th><th>mas / yr</th><th>mas / yr</th><th>mas</th></tr></thead>\n",
              "<thead><tr><th>int64</th><th>float64</th><th>float64</th><th>float64</th><th>float64</th><th>float64</th></tr></thead>\n",
              "<tr><td>5774166853221253248</td><td>255.3792009291943</td><td>-81.5464852802809</td><td>-3.0316710302382557</td><td>-4.946660120180574</td><td>-0.11656456253184838</td></tr>\n",
              "<tr><td>5774127884983304064</td><td>255.46339475536823</td><td>-81.9343827148497</td><td>-2.3706602682617057</td><td>-5.863143428860831</td><td>-0.28135566087160546</td></tr>\n",
              "<tr><td>5774210313994538368</td><td>266.1180678339984</td><td>-82.08346096614498</td><td>-1.9735589474907642</td><td>-14.21094590314701</td><td>0.9979476982408989</td></tr>\n",
              "<tr><td>5774208596007457152</td><td>266.805352200437</td><td>-82.20025585768727</td><td>-0.964846424314997</td><td>-0.3195817711486954</td><td>0.6886972117381553</td></tr>\n",
              "<tr><td>5774162867493520384</td><td>256.190094179224</td><td>-81.60295434489359</td><td>-0.05351612612049128</td><td>4.755737573042803</td><td>0.7429282991282502</td></tr>\n",
              "<tr><td>5774120497639405568</td><td>256.55102650303803</td><td>-82.0369828140731</td><td>-0.7465725610980503</td><td>-7.9190732076651145</td><td>0.5061228771694827</td></tr>\n",
              "<tr><td>5774149261035150720</td><td>256.9991478492494</td><td>-81.72071411027484</td><td>-3.774524155975577</td><td>-8.314350843414621</td><td>0.23401098321650968</td></tr>\n",
              "<tr><td>5774236736633943296</td><td>266.19995027809983</td><td>-81.88986107263486</td><td>-2.9442203744839017</td><td>-10.853265889384687</td><td>0.3542784328706299</td></tr>\n",
              "<tr><td>5774114111024380672</td><td>256.2589908628249</td><td>-82.09350476119754</td><td>-3.960819792914774</td><td>-13.072830196099344</td><td>0.8903614154955298</td></tr>\n",
              "<tr><td>3442415050796378496</td><td>83.2104417128269</td><td>28.243295600239716</td><td>2.137754315506601</td><td>-1.998333270456468</td><td>0.7837593900788928</td></tr>\n",
              "</table></div>"
            ]
          },
          "metadata": {},
          "execution_count": 39
        }
      ]
    },
    {
      "cell_type": "code",
      "source": [
        "query4 = \"\"\"SELECT\n",
        "TOP 10\n",
        "source_id, ref_epoch, ra, dec, parallax\n",
        "FROM gaiadr2.gaia_source\n",
        "WHERE parallax < 1\n",
        "  AND bp_rp > -0.75 AND bp_rp < 2\n",
        "\"\"\""
      ],
      "metadata": {
        "id": "FZkTwJN6jGZY"
      },
      "execution_count": null,
      "outputs": []
    },
    {
      "cell_type": "code",
      "source": [
        "job4 = Gaia.launch_job_async(query4)\n",
        "job4"
      ],
      "metadata": {
        "colab": {
          "base_uri": "https://localhost:8080/"
        },
        "id": "o3HDwLPdkJYl",
        "outputId": "e20ad04a-18ee-4ff1-9bc8-6132c3f7d741"
      },
      "execution_count": null,
      "outputs": [
        {
          "output_type": "stream",
          "name": "stderr",
          "text": [
            "INFO:astroquery:Query finished.\n"
          ]
        },
        {
          "output_type": "stream",
          "name": "stdout",
          "text": [
            "INFO: Query finished. [astroquery.utils.tap.core]\n"
          ]
        },
        {
          "output_type": "execute_result",
          "data": {
            "text/plain": [
              "<astroquery.utils.tap.model.job.Job at 0x7969678ee830>"
            ]
          },
          "metadata": {},
          "execution_count": 46
        }
      ]
    },
    {
      "cell_type": "code",
      "source": [
        "results4 = job4.get_results()\n",
        "results4[0:10]"
      ],
      "metadata": {
        "colab": {
          "base_uri": "https://localhost:8080/",
          "height": 308
        },
        "id": "61Q3uy0BkOtR",
        "outputId": "e5fc4bbf-a3e1-4e3f-bda0-d931a1e168fb"
      },
      "execution_count": null,
      "outputs": [
        {
          "output_type": "execute_result",
          "data": {
            "text/plain": [
              "<Table length=10>\n",
              "     SOURCE_ID      ref_epoch         ra               dec               parallax     \n",
              "                        yr           deg               deg                 mas        \n",
              "       int64         float64       float64           float64             float64      \n",
              "------------------- --------- ----------------- ------------------ -------------------\n",
              "3442372513437789824    2015.5 82.69148704144347  27.81003005595655  0.5420750478572137\n",
              "3442369116120916736    2015.5 82.61694031485109 27.681022214174373 0.32351072305300715\n",
              "3442392579525501312    2015.5 82.32765380214545    27.997781450479  0.7284233196348229\n",
              "3442364924232884864    2015.5 83.30884552420815  28.13007127918985  0.9051208878550049\n",
              "3442385570139038976    2015.5 82.73858183024818 28.066983973156038 0.19516999157750708\n",
              "3442410343510697088    2015.5 82.87745847689449 28.189621295130973  0.8187801187059884\n",
              "3442427248502118144    2015.5 82.63999153649694 28.297972205289422  0.4888844152142212\n",
              " 189383460480003712    2015.5 84.57367387748211 37.152115037601966  0.5320566169626005\n",
              " 189283538062934656    2015.5 84.37089609086435  36.85846150701379  0.5666372222117791\n",
              " 189385964443356672    2015.5 84.48099564960762  37.19628492205093 0.06458379457515762"
            ],
            "text/html": [
              "<div><i>Table length=10</i>\n",
              "<table id=\"table133493615937616\" class=\"table-striped table-bordered table-condensed\">\n",
              "<thead><tr><th>SOURCE_ID</th><th>ref_epoch</th><th>ra</th><th>dec</th><th>parallax</th></tr></thead>\n",
              "<thead><tr><th></th><th>yr</th><th>deg</th><th>deg</th><th>mas</th></tr></thead>\n",
              "<thead><tr><th>int64</th><th>float64</th><th>float64</th><th>float64</th><th>float64</th></tr></thead>\n",
              "<tr><td>3442372513437789824</td><td>2015.5</td><td>82.69148704144347</td><td>27.81003005595655</td><td>0.5420750478572137</td></tr>\n",
              "<tr><td>3442369116120916736</td><td>2015.5</td><td>82.61694031485109</td><td>27.681022214174373</td><td>0.32351072305300715</td></tr>\n",
              "<tr><td>3442392579525501312</td><td>2015.5</td><td>82.32765380214545</td><td>27.997781450479</td><td>0.7284233196348229</td></tr>\n",
              "<tr><td>3442364924232884864</td><td>2015.5</td><td>83.30884552420815</td><td>28.13007127918985</td><td>0.9051208878550049</td></tr>\n",
              "<tr><td>3442385570139038976</td><td>2015.5</td><td>82.73858183024818</td><td>28.066983973156038</td><td>0.19516999157750708</td></tr>\n",
              "<tr><td>3442410343510697088</td><td>2015.5</td><td>82.87745847689449</td><td>28.189621295130973</td><td>0.8187801187059884</td></tr>\n",
              "<tr><td>3442427248502118144</td><td>2015.5</td><td>82.63999153649694</td><td>28.297972205289422</td><td>0.4888844152142212</td></tr>\n",
              "<tr><td>189383460480003712</td><td>2015.5</td><td>84.57367387748211</td><td>37.152115037601966</td><td>0.5320566169626005</td></tr>\n",
              "<tr><td>189283538062934656</td><td>2015.5</td><td>84.37089609086435</td><td>36.85846150701379</td><td>0.5666372222117791</td></tr>\n",
              "<tr><td>189385964443356672</td><td>2015.5</td><td>84.48099564960762</td><td>37.19628492205093</td><td>0.06458379457515762</td></tr>\n",
              "</table></div>"
            ]
          },
          "metadata": {},
          "execution_count": 47
        }
      ]
    },
    {
      "cell_type": "code",
      "source": [
        "data = results4.to_pandas()"
      ],
      "metadata": {
        "id": "tDDlJXnKmF5p"
      },
      "execution_count": null,
      "outputs": []
    },
    {
      "cell_type": "code",
      "source": [
        "import seaborn as sns\n",
        "import matplotlib.pyplot as plt\n",
        "from astropy.table import Table"
      ],
      "metadata": {
        "id": "ZEHufUMomGDC"
      },
      "execution_count": null,
      "outputs": []
    },
    {
      "cell_type": "code",
      "source": [
        "# Scatter Plot: RA vs Dec (colored by parallax)\n",
        "plt.figure(figsize=(10, 6))\n",
        "scatter = sns.scatterplot(\n",
        "    data=data, x=\"ra\", y=\"dec\", hue=\"parallax\", palette=\"viridis\", size=4, legend=\"full\"\n",
        ")\n",
        "plt.title(\"Sky Positions (RA vs Dec) Colored by Parallax\", fontsize=16)\n",
        "plt.xlabel(\"Right Ascension (RA) [degrees]\", fontsize=14)\n",
        "plt.ylabel(\"Declination (Dec) [degrees]\", fontsize=14)\n",
        "plt.legend(title=\"Parallax\", fontsize=10)\n",
        "plt.grid(True)\n",
        "plt.tight_layout()\n",
        "plt.show()"
      ],
      "metadata": {
        "colab": {
          "base_uri": "https://localhost:8080/",
          "height": 601
        },
        "id": "_6ZviMJfmGJb",
        "outputId": "b47571be-48e0-411e-e020-2edb1ad5dd84"
      },
      "execution_count": null,
      "outputs": [
        {
          "output_type": "display_data",
          "data": {
            "text/plain": [
              "<Figure size 1000x600 with 1 Axes>"
            ],
            "image/png": "[encoded data removed]"
          },
          "metadata": {}
        }
      ]
    },
    {
      "cell_type": "code",
      "source": [
        "# Histogram of Parallax\n",
        "plt.figure(figsize=(8, 5))\n",
        "sns.histplot(data[\"parallax\"], bins=10, kde=True, color=\"blue\")\n",
        "plt.title(\"Parallax Distribution\", fontsize=16)\n",
        "plt.xlabel(\"Parallax [mas]\", fontsize=14)\n",
        "plt.ylabel(\"Frequency\", fontsize=14)\n",
        "plt.grid(True)\n",
        "plt.tight_layout()\n",
        "plt.show()"
      ],
      "metadata": {
        "id": "sAnbrGbBoOh6",
        "outputId": "9fb3a2ce-6578-45a1-84d4-142f2505ae15",
        "colab": {
          "base_uri": "https://localhost:8080/",
          "height": 501
        }
      },
      "execution_count": null,
      "outputs": [
        {
          "output_type": "display_data",
          "data": {
            "text/plain": [
              "<Figure size 800x500 with 1 Axes>"
            ],
            "image/png": "[encoded data removed]"
          },
          "metadata": {}
        }
      ]
    }
  ]
}